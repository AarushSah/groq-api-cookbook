{
 "cells": [
  {
   "cell_type": "markdown",
   "id": "072150ea-1f44-4428-94ae-695ba94b2f7d",
   "metadata": {},
   "source": [
    "# Retrieval-Augmented Generation for Presidential Speeches using Groq API and Langchain"
   ]
  },
  {
   "cell_type": "markdown",
   "id": "d7a4fc92-eb9a-4273-8ff6-0fc5b96236d7",
   "metadata": {},
   "source": [
    "Retrieval-Augmented Generation (RAG) is a widely-used technique that enables us to gather pertinent information from an external data source and provide it to our large language model (LLM). It helps solve two of the biggest limitations of LLMs: knowledge cutoffs, in which information after a certain date or for a specific source is not available to the LLM, and hallucination, in which the LLM makes up an answer to a question it doesn't have the information for. With RAG, we can ensure that the LLM has relevant information to answer the question at hand."
   ]
  },
  {
   "cell_type": "markdown",
   "id": "ea1ae66c-a322-467d-b789-f7ce5a636ad7",
   "metadata": {},
   "source": [
    "In this notebook we will be using [Groq API](https://console.groq.com), [LangChain](https://www.langchain.com/) and [Pinecone](https://www.pinecone.io/) to perform RAG on [presidential speech transcripts](https://millercenter.org/the-presidency/presidential-speeches) from the Miller Center at the University of Virginia. In doing so, we will create vector embeddings for each speech, store them in a vector database, retrieve the most relevent speech excerpts pertaining to the user prompt and include them in context for the LLM."
   ]
  },
  {
   "cell_type": "markdown",
   "id": "d7784880-495e-4d7c-a045-d12b7f57b65d",
   "metadata": {},
   "source": [
    "### Setup"
   ]
  },
  {
   "cell_type": "code",
   "execution_count": 1,
   "id": "b4679c23-7035-4276-b3d6-95cd89916477",
   "metadata": {},
   "outputs": [],
   "source": [
    "import pandas as pd\n",
    "import numpy as np\n",
    "from groq import Groq\n",
    "import os\n",
    "import pinecone\n",
    "\n",
    "from langchain_community.vectorstores import Chroma\n",
    "from langchain.text_splitter import TokenTextSplitter\n",
    "from langchain.docstore.document import Document\n",
    "from langchain_community.embeddings.sentence_transformer import SentenceTransformerEmbeddings\n",
    "from langchain_pinecone import PineconeVectorStore\n",
    "from transformers import AutoModelForCausalLM, AutoTokenizer\n",
    "from sklearn.metrics.pairwise import cosine_similarity"
   ]
  },
  {
   "cell_type": "markdown",
   "id": "4c18688b-178f-439d-90a4-590f99ade11f",
   "metadata": {},
   "source": [
    "A Groq API Key is required for this demo - you can generate one for free [here](https://console.groq.com/keys). We will be using Pinecone as our vector database, which also requires an API key (you can create one index for a small project there for free on their Starter plan), but will also show how it works with [Chroma DB](https://www.trychroma.com/), a free open source alternative that stores vector embeddings in memory. We will also use the Mixtral 8x7b model for this demo."
   ]
  },
  {
   "cell_type": "code",
   "execution_count": 2,
   "id": "14fd5b33-360e-4fbe-ad29-11d5f759b0d3",
   "metadata": {},
   "outputs": [],
   "source": [
    "groq_api_key = os.getenv('GROQ_API_KEY')\n",
    "pinecone_api_key = os.getenv('PINECONE_API_KEY')\n",
    "\n",
    "client = Groq(api_key = groq_api_key)\n",
    "model = \"mixtral-8x7b-32768\""
   ]
  },
  {
   "cell_type": "markdown",
   "id": "469e5b3a-6c5d-49cd-a547-222d45d7a996",
   "metadata": {},
   "source": [
    "### RAG Basics with One Document"
   ]
  },
  {
   "cell_type": "markdown",
   "id": "283183cd-ba64-4e98-a0d9-a6165e88494e",
   "metadata": {},
   "source": [
    "The presidential speeches we'll be using are stored are in this [.csv file](https://github.com/groq/groq-api-cookbook/blob/main/presidential-speeches-rag/presidential_speeches.csv). Each row of the .csv contains fields for the date, president, party, speech title, speech summary and speech transcript, and includes every recorded presidential speech through the Trump presidency:"
   ]
  },
  {
   "cell_type": "code",
   "execution_count": 3,
   "id": "d1017409-cb0e-402b-9c53-c61729296bd2",
   "metadata": {},
   "outputs": [
    {
     "data": {
      "text/html": [
       "<div>\n",
       "<style scoped>\n",
       "    .dataframe tbody tr th:only-of-type {\n",
       "        vertical-align: middle;\n",
       "    }\n",
       "\n",
       "    .dataframe tbody tr th {\n",
       "        vertical-align: top;\n",
       "    }\n",
       "\n",
       "    .dataframe thead th {\n",
       "        text-align: right;\n",
       "    }\n",
       "</style>\n",
       "<table border=\"1\" class=\"dataframe\">\n",
       "  <thead>\n",
       "    <tr style=\"text-align: right;\">\n",
       "      <th></th>\n",
       "      <th>Date</th>\n",
       "      <th>President</th>\n",
       "      <th>Party</th>\n",
       "      <th>Speech Title</th>\n",
       "      <th>Summary</th>\n",
       "      <th>Transcript</th>\n",
       "      <th>URL</th>\n",
       "    </tr>\n",
       "  </thead>\n",
       "  <tbody>\n",
       "    <tr>\n",
       "      <th>0</th>\n",
       "      <td>1789-04-30</td>\n",
       "      <td>George Washington</td>\n",
       "      <td>Unaffiliated</td>\n",
       "      <td>First Inaugural Address</td>\n",
       "      <td>Washington calls on Congress to avoid local an...</td>\n",
       "      <td>Fellow Citizens of the Senate and the House of...</td>\n",
       "      <td>https://millercenter.org/the-presidency/presid...</td>\n",
       "    </tr>\n",
       "    <tr>\n",
       "      <th>1</th>\n",
       "      <td>1789-10-03</td>\n",
       "      <td>George Washington</td>\n",
       "      <td>Unaffiliated</td>\n",
       "      <td>Thanksgiving Proclamation</td>\n",
       "      <td>At the request of Congress, Washington establi...</td>\n",
       "      <td>Whereas it is the duty of all Nations to ackno...</td>\n",
       "      <td>https://millercenter.org/the-presidency/presid...</td>\n",
       "    </tr>\n",
       "    <tr>\n",
       "      <th>2</th>\n",
       "      <td>1790-01-08</td>\n",
       "      <td>George Washington</td>\n",
       "      <td>Unaffiliated</td>\n",
       "      <td>First Annual Message to Congress</td>\n",
       "      <td>In a wide ranging speech, President Washington...</td>\n",
       "      <td>Fellow Citizens of the Senate and House of Rep...</td>\n",
       "      <td>https://millercenter.org/the-presidency/presid...</td>\n",
       "    </tr>\n",
       "    <tr>\n",
       "      <th>3</th>\n",
       "      <td>1790-12-08</td>\n",
       "      <td>George Washington</td>\n",
       "      <td>Unaffiliated</td>\n",
       "      <td>Second Annual Message to Congress</td>\n",
       "      <td>Washington focuses on commerce in his second a...</td>\n",
       "      <td>Fellow citizens of the Senate and House of Rep...</td>\n",
       "      <td>https://millercenter.org/the-presidency/presid...</td>\n",
       "    </tr>\n",
       "    <tr>\n",
       "      <th>4</th>\n",
       "      <td>1790-12-29</td>\n",
       "      <td>George Washington</td>\n",
       "      <td>Unaffiliated</td>\n",
       "      <td>Talk to the Chiefs and Counselors of the Senec...</td>\n",
       "      <td>The President reassures the Seneca Nation that...</td>\n",
       "      <td>I the President of the United States, by my ow...</td>\n",
       "      <td>https://millercenter.org/the-presidency/presid...</td>\n",
       "    </tr>\n",
       "  </tbody>\n",
       "</table>\n",
       "</div>"
      ],
      "text/plain": [
       "         Date          President         Party   \n",
       "0  1789-04-30  George Washington  Unaffiliated  \\\n",
       "1  1789-10-03  George Washington  Unaffiliated   \n",
       "2  1790-01-08  George Washington  Unaffiliated   \n",
       "3  1790-12-08  George Washington  Unaffiliated   \n",
       "4  1790-12-29  George Washington  Unaffiliated   \n",
       "\n",
       "                                        Speech Title   \n",
       "0                            First Inaugural Address  \\\n",
       "1                          Thanksgiving Proclamation   \n",
       "2                   First Annual Message to Congress   \n",
       "3                  Second Annual Message to Congress   \n",
       "4  Talk to the Chiefs and Counselors of the Senec...   \n",
       "\n",
       "                                             Summary   \n",
       "0  Washington calls on Congress to avoid local an...  \\\n",
       "1  At the request of Congress, Washington establi...   \n",
       "2  In a wide ranging speech, President Washington...   \n",
       "3  Washington focuses on commerce in his second a...   \n",
       "4  The President reassures the Seneca Nation that...   \n",
       "\n",
       "                                          Transcript   \n",
       "0  Fellow Citizens of the Senate and the House of...  \\\n",
       "1  Whereas it is the duty of all Nations to ackno...   \n",
       "2  Fellow Citizens of the Senate and House of Rep...   \n",
       "3  Fellow citizens of the Senate and House of Rep...   \n",
       "4  I the President of the United States, by my ow...   \n",
       "\n",
       "                                                 URL  \n",
       "0  https://millercenter.org/the-presidency/presid...  \n",
       "1  https://millercenter.org/the-presidency/presid...  \n",
       "2  https://millercenter.org/the-presidency/presid...  \n",
       "3  https://millercenter.org/the-presidency/presid...  \n",
       "4  https://millercenter.org/the-presidency/presid...  "
      ]
     },
     "execution_count": 3,
     "metadata": {},
     "output_type": "execute_result"
    }
   ],
   "source": [
    "presidential_speeches_df = pd.read_csv('presidential_speeches.csv')\n",
    "presidential_speeches_df.head()"
   ]
  },
  {
   "cell_type": "markdown",
   "id": "a9aaabfb-c34d-40f1-a90f-f448a9051130",
   "metadata": {},
   "source": [
    "To get a better idea of the steps involved in building a RAG system, let's focus on a single speech to start. In honor of his [upcoming Netflix series](https://www.netflix.com/tudum/articles/death-by-lightning-tv-series-adaptation) and his distinction of being the only president to [contribute an original proof of the Pythagorean Theorem](https://maa.org/press/periodicals/convergence/mathematical-treasure-james-a-garfields-proof-of-the-pythagorean-theorem), we'll use James Garfield's Inaugural Address:"
   ]
  },
  {
   "cell_type": "code",
   "execution_count": 4,
   "id": "39439748-8652-415d-a5e7-0f421a6ae30a",
   "metadata": {},
   "outputs": [
    {
     "name": "stdout",
     "output_type": "stream",
     "text": [
      "Fellow Citizens: We stand to-day upon an eminence which overlooks a hundred years of national life- a century crowded with perils, but crowned with the triumphs of liberty and law. Before continuing the onward march let us pause on this height for a moment to strengthen our faith and renew our hope bya glance at the pathway along which our people have traveled. It is now three days more than a hundred years since the adoption of the first written constitution of the United States the Articles of Confederation and Perpetual Union. The new Republic was then beset with danger on every hand. It had not conquered a place in the family of nations. The decisive battle of the war for independence, whose centennial anniversary will soon be gratefully celebrated at Yorktown, had not yet been fought. The colonists were struggling not only against the armies of a great nation, but against the settled opinions of mankind; for the world did not then believe that the supreme authority of government could be safely intrusted to the guardianship of the people themselves. We can not overestimate the fervent love of liberty, the intelligent courage, and the sum of common sense with which our fathers made the great experiment of self government. When they found, after a short trial, that the confederacy of States, was too weak to meet the necessities of a vigorous and expanding republic, they boldly set it aside, and in its stead established a National Union, founded directly upon the will of the people, endowed with full power of self preservation and ample authority for the accomplishment of its great object. Under this Constitution the boundaries of freedom have been enlarged, the foundations of order and peace have been strengthened, and the growth of our people in all the better elements of national life has indicated the wisdom of the founders and given new hope to their descendants. Under this Constitution our people long ago made themselves safe against danger from without and secured for their mariners and flag equality of rights on all the seas. Under this Constitution twenty-five States have been added to the Union, with constitutions and laws, framed and enforced by their own citizens, to secure the manifold blessings of local self government. The jurisdiction of this Constitution now covers an area fifty times greater than that of the original thirteen States and a population twenty times greater than that of 1780. The supreme trial of the Constitution came at last under the tremendous pressure of civil war. We ourselves are witnesses that the Union emerged from the blood and fire of that conflict purified and made stronger for all the beneficent purposes of good government. And now, at the close of this first century of growth, with the inspirations of its history in their hearts, our people have lately reviewed the condition of the nation, passed judgment upon the conduct and opinions of political parties, and have registered their will concerning the future administration of the Government. To interpret and to execute that will in accordance with the Constitution is the paramount duty of the Executive. Even from this brief review it is manifest that the nation is resolutely facing to the front, resolved to employ its best energies in developing the great possibilities of the future. Sacredly preserving whatever has been gained to liberty and good government during the century, our people are determined to leave behind them all those bitter controversies concerning things which have been irrevocably settled, and the further discussion of which can only stir up strife and delay the onward march. The supremacy of the nation and its laws should be no longer a subject of debate. That discussion, which for half a century threatened the existence of the Union, was closed at last in the high court of war by a decree from which there is no appeal that the Constitution and the laws made in pursuance there of are and shall continue to be the supreme law of the land, binding alike upon the States and the people. This decree does not disturb the autonomy of the States nor interfere with any of their necessary rights of local self government, but it does fix and establish the permanent supremacy of the Union. The will of the nation, speaking with the voice of battle and through the amended Constitution, has fulfilled the great promise of 1776 by proclaiming “liberty throughout the land to all the inhabitants thereof.” The elevation of the negro race from slavery to the full rights of citizenship is the most important political change we have known since the adoption of the Constitution of 1787. NO thoughtful man can fail to appreciate its beneficent effect upon our institutions and people. It has freed us from the perpetual danger of war and dissolution. It has added immensely to the moral and industrial forces of our people. It has liberated the master as well as the slave from a relation which wronged and enfeebled both. It has surrendered to their own guardianship the manhood of more than mechanical ) double, and has opened to each one of them a career of freedom and usefulness. It has given new inspiration to the power of self help in both races by making labor more honorable to the one and more necessary to the other. The influence of this force will grow greater and bear richer fruit with the coming years. No doubt this great change has caused serious disturbance to our Southern communities. This is to be deplored, though it was perhaps unavoidable. But those who resisted the change should remember that under our institutions there was no middle ground for the negro race between slavery and equal citizenship. There can be no permanent disfranchised peasantry in the UnitedStates. Freedom can never yield its fullness of blessings so long as the law or its administration places the smallest obstacle in the pathway of any virtuous citizen. The emancipated race has already made remarkable progress. With unquestioning devotion to the Union, with a patience and gentleness not born of fear, they have “followed the light as God gave them to see the light.” They are rapidly laying the material foundations of self support, widening their circle of intelligence, and beginning to enjoy the blessings that gather around the homes of the industrious poor. They deserve the generous encouragement of all good men. So far as my authority can lawfully extend they shall enjoy the full and equal protection of the Constitution and the laws. The free enjoyment of equal suffrage is still in question, and a frank statement of the issue may aid its solution. It is alleged that in many communities negro citizens are practically denied the freedom of the ballot. In so far as the truth of this allegation is admitted, it is answered that in many places honest local government is impossible if the mass of uneducated negroes are allowed to vote. These are grave allegations. So far as the latter is true, it is the only palliation that can be offered for opposing the freedom of the ballot. Bad local government is certainly a great evil, which ought to be prevented; but to violate the freedom and sanctities of the suffrage is more than an evil. It is a crime which, if persisted in, will destroy the Government itself. Suicide is not a remedy. If in other lands it be high treason to compass the death of the king, it shall be counted no less a crime here to strangle our sovereign power and stifle its voice. It has been said that unsettled questions have no pity for the repose of nations. It should be said with the utmost emphasis that this question of the suffrage will never give repose or safety to the States or to the nation until each, within its own jurisdiction, makes and keeps the ballot free and pure by the strong sanctions of the law. But the danger which arises from ignorance in the voter can not be denied. It covers a field far wider than that of negro suffrage and the present condition of the race. It is a danger that lurks and hides in the sources and fountains of power in every state. We have no standard by which to measure the disaster that may be brought upon us by ignorance and vice in the citizens when joined to corruption and fraud in the suffrage. The voters of the Union, who make and unmake constitutions, and upon whose will hang the destinies of our governments, can transmit their supreme authority to no successors save the coming generation of voters, who are the sole heirs of sovereign power. If that generation comes to its inheritance blinded by ignorance and corrupted by vice, the fall of the Republic will be certain and remediless. The census has already sounded the alarm in the appalling figures which mark how dangerously high the tide of illiteracy has risen among our voters and their children. To the South this question is of supreme importance. But the responsibility for the existence of slavery did not rest upon the South alone. The nation itself is responsible for the extension of the suffrage, and is under special obligations to aid in removing the illiteracy which it has added to the voting population. For the North and South alike there is but one remedy. All the constitutional power of the nation and of the States and all the volunteer forces of the people should be surrendered to meet this danger by the savory influence of universal education. It is the high privilege and sacred duty of those now living to educate their successors and fit them, by intelligence and virtue, for the inheritance which awaits them. In this beneficent work sections and races should be forgotten and partisanship should be unknown. Let our people find a new meaning in the divine oracle which declares that “a little child shall lead them,” for our own little children will soon control the destinies of the Republic. My countrymen, we do not now differ in our judgment concerning the controversies of past generations, and fifty years hence our children will not be divided in their opinions concerning our controversies. They will surely bless their fathers and their fathers ' God that the Union was preserved, that slavery was overthrown, and that both races were made equal before the law. We may hasten or we may retard, but we can not prevent, the final reconciliation. Is it not possible for us now to make a truce with time by anticipating and accepting its inevitable verdict? Enterprises of the highest importance to our moral and material well being unite us and offer ample employment of our best powers. Let all our people, leaving behind them the battlefields of dead issues, move forward and in their strength of liberty and the restored Union win the grander victories of peace. The prosperity which now prevails is without parallel in our history. Fruitful seasons have done much to secure it, but they have not done all. The preservation of the public credit and the resumption of specie payments, so successfully attained by the Administration of my predecessors, have enabled our people to secure the blessings which the seasons brought. By the experience of commercial nations in all ages it has been found that gold and silver afford the only safe foundation for a monetary system. Confusion has recently been created by variations in the relative value of the two metals, but I confidently believe that arrangements can be made between the leading commercial nations which will secure the general use of both metals. Congress should provide that the compulsory coinage of silver now required by law may not disturb our monetary system by driving either metal out of circulation. If possible, such an adjustment should be made that the purchasing power of every coined dollar will be exactly equal to its debt-paying power in all the markets of the world. The chief duty of the National Government in connection with the currency of the country is to coin money and declare its value. Grave doubts have been entertained whether Congress is authorized by the Constitution to make any form of paper money legal tender. The present issue of UnitedStates notes has been sustained by the necessities of war; but such paper should depend for its value and currency upon its convenience in use and its prompt redemption in coin at the will of the holder, and not upon its compulsory circulation. These notes are not money, but promises to pay money. If the holders demand it, the promise should be kept. The refunding of the national debt at a lower rate of interest should be accomplished without compelling the withdrawal of the national-banknotes, and thus disturbing the business of the country. I venture to refer to the position I have occupied on financial questions during a long service in Congress, and to say that time and experience have strengthened the opinions I have so often expressed on these subjects. The finances of the Government shall suffer no detriment which it maybe possible for my Administration to prevent. The interests of agriculture deserve more attention from the Government than they have yet received. The farms of the United States afford homes and employment for more than one-half our people, and furnish much the largest part of all our exports. As the Government lights our coasts for the protection of mariners and the benefit of commerce, so it should give to the tillers of the soil the best lights of practical science and experience. Our manufacturers are rapidly making us industrially independent, and are opening to capital and labor new and profitable fields of employment. Their steady and healthy growth should still be matured. Our facilities for transportation should be promoted by the continued improvement of our harbors and great interior waterways and by the increase of our tonnage on the ocean. The development of the world's commerce has led to an urgent demand for shortening the great sea voyage around Cape Horn by constructing ship canals or railways across the isthmus which unites the continents. Various plans to this end have been suggested and will need consideration, but none of them has been sufficiently matured to warrant the United States in extending pecuniary aid. The subject, however, is one which will immediately engage the attention of the Government with a view to a thorough protection to American interests. We will urge no narrow policy nor seek peculiar or exclusive privileges in any commercial route; but, in the language of my predecessor, I believe it to be the right “and duty of the United States to assert and maintain such supervision and authority over any interoceanic canal across the isthmus that connects North and South America as will protect our national interest.” The Constitution guarantees absolute religious freedom. Congress is prohibited from making any law respecting an establishment of religion or prohibiting the free exercise thereof. The Territories of the UnitedStates are subject to the direct legislative authority of Congress, and hence the General Government is responsible for any violation of the Constitution in any of them. It is therefore a reproach to the Government that in the most populous of the Territories the constitutional guaranty is not enjoyed by the people and the authority of Congress is set at naught. The MormonChurch not only offends the moral sense of manhood by sanctioning polygamy, but prevents the administration of justice through ordinary instrumentalities of law. In my judgment it is the duty of Congress, while respecting to the uttermost the conscientious convictions and religious scruples of every citizen, to prohibit within its jurisdiction all criminal practices, especially of that class which destroy the family relations and endanger social order. Nor can any ecclesiastical organization be safely permitted to usurp in the smallest degree the functions and powers of the National Government. The civil service can never be placed on a satisfactory basis until it is regulated by law. For the good of the service itself, for the protection of those who are intrusted with the appointing power against the waste of time and obstruction to the public business caused by the inordinate pressure for place, and for the protection of incumbents against intrigue and wrong, I shall at the proper time ask Congress to fix the tenure of the minor offices of the several Executive Departments and prescribe the grounds upon which removals shall be made during the terms for which incumbents have been appointed. Finally, acting always within the authority and limitations of the Constitution, invading neither the rights of the States nor the reserved rights of the people, it will be the purpose of my Administration to maintain the authority of the nation in all places within its jurisdiction; to enforce obedience to all the laws of the Union in the interests of the people; to demand rigid economy in all the expenditures of the Government, and to require the honest and faithful service of all executive officers, remembering that the offices were created, not for the benefit of incumbents or their supporters, but for the service of the Government. And now, fellow citizens, I am about to assume the great trust which you have committed to my hands. I appeal to you for that earnest and thoughtful support which makes this Government in fact, as it is in law, a government of the people. I shall greatly rely upon the wisdom and patriotism of Congress and of those who may share with me the responsibilities and duties of administration, and, above all, upon our efforts to promote the welfare of this great people and their Government I reverently invoke the support and blessings of AlmightyGod\n"
     ]
    }
   ],
   "source": [
    "garfield_inaugural = presidential_speeches_df.iloc[309].Transcript\n",
    "print(garfield_inaugural)"
   ]
  },
  {
   "cell_type": "markdown",
   "id": "8e1a9811-2fd6-4c99-ba11-a9df2df33ec0",
   "metadata": {},
   "source": [
    "A challenge with prompting LLMs can be running into limits with their context window. While this speech is not extremely long and would actually in Mixtral's context window, it is not always great practice to use way more of the context window than you need, so when using RAG we want to split up the text to provide only relevant parts of it to the LLM. To do so, we first need to ```tokenize``` the transcript. We'll use the Mixtral 8x7b tokenzier with the transformers AutoTokenizer class for this - this will show the number of tokens the Mixtral 8x7b model counts in Garfield's Inaugural Address:"
   ]
  },
  {
   "cell_type": "code",
   "execution_count": 5,
   "id": "c6057e9f-874e-4d7a-9f3c-e411a9acbb2e",
   "metadata": {},
   "outputs": [
    {
     "data": {
      "text/plain": [
       "3637"
      ]
     },
     "execution_count": 5,
     "metadata": {},
     "output_type": "execute_result"
    }
   ],
   "source": [
    "model_id = \"mistralai/Mixtral-8x7B-v0.1\"\n",
    "tokenizer = AutoTokenizer.from_pretrained(model_id)\n",
    "#tokenizer = tiktoken.get_encoding('p50k_base')\n",
    "\n",
    "# create the length function\n",
    "def token_len(text):\n",
    "    tokens = tokenizer.encode(\n",
    "        text\n",
    "    )\n",
    "    return len(tokens)\n",
    "\n",
    "token_len(garfield_inaugural)"
   ]
  },
  {
   "cell_type": "markdown",
   "id": "71de3b6c-e89b-4446-a585-32cf10a1cd8e",
   "metadata": {},
   "source": [
    "Next, we'll split the text into chunks using LangChain's `TokenTextSplitter` function. In this example we will set the maximum tokens in a chunk to be 450, with a 20 token overlap to reduce the chances that a sentence or concept will be split into different chunks.\n",
    "\n",
    "Note that LangChain uses OpenAI's `tiktoken` tokenizer, so our Mixtral tokenizer will count tokens a bit differently - when adjusting for this, our chunk sizes will be around 500 tokens."
   ]
  },
  {
   "cell_type": "code",
   "execution_count": 6,
   "id": "20ba719b-9a03-437a-a665-a0bde9ec24cf",
   "metadata": {},
   "outputs": [
    {
     "name": "stdout",
     "output_type": "stream",
     "text": [
      "488\n",
      "490\n",
      "492\n",
      "488\n",
      "481\n",
      "478\n",
      "491\n",
      "388\n"
     ]
    }
   ],
   "source": [
    "text_splitter = TokenTextSplitter(\n",
    "    chunk_size=450, # 500 tokens is the max\n",
    "    chunk_overlap=20 # Overlap of N tokens between chunks (to reduce chance of cutting out relevant connected text like middle of sentence)\n",
    ")\n",
    "\n",
    "chunks = text_splitter.split_text(garfield_inaugural)\n",
    "\n",
    "for chunk in chunks:\n",
    "    print(token_len(chunk))"
   ]
  },
  {
   "cell_type": "markdown",
   "id": "ce723eea-7e69-48c1-8452-957709d117db",
   "metadata": {},
   "source": [
    "Next, we will embed each chunk into a semantic vector space using the all-MiniLM-L6-v2 model, through LangChain's implementation of Sentence Transformers from [HuggingFace](https://huggingface.co/). Note that each embedding has a length of 384."
   ]
  },
  {
   "cell_type": "code",
   "execution_count": 8,
   "id": "740cea0e-c568-4522-995b-2bc1b9f1d4d8",
   "metadata": {
    "scrolled": true
   },
   "outputs": [
    {
     "name": "stdout",
     "output_type": "stream",
     "text": [
      "384 [-0.041311461478471756, 0.04761343449354172, 0.007975015789270401, -0.03020785003900528, 0.047637343406677246, 0.03253323584794998, 0.012350233271718025, -0.04483679682016373, -0.008013594895601273, 0.015704091638326645, -0.0009443223243579268, 0.11632765829563141, -0.007115581538528204, -0.03356582298874855, -0.043237973004579544, 0.06872354447841644, -0.04552486911416054, -0.07017461210489273, -0.10271694511175156, 0.11116138100624084, -0.0037067574448883533, -0.0528477318584919, 0.01186254434287548, 0.09871461242437363, -0.012780101969838142, 0.04734155908226967, 0.033582210540771484, 0.05277693644165993, 0.00506791565567255, 0.032886479049921036, 0.011228447780013084, -0.08480437844991684, -0.004000973422080278, 0.020119961351156235, 0.012165549211204052, -0.03650163486599922, 0.1260625422000885, 0.022850899025797844, 0.09381578117609024, -0.0603368803858757, -0.04765155166387558, -0.058984097093343735, 0.01675328053534031, 0.13731324672698975, -0.005673498380929232, 0.04319540038704872, -0.07935669273138046, 0.03079441748559475, 0.04049929976463318, -0.009496845304965973, 0.07452265918254852, -0.011513538658618927, -0.0031144244130700827, -0.1101640984416008, 0.029269061982631683, -0.01067295204848051, -0.008433513343334198, -0.02620803192257881, 0.008094062097370625, -0.061841316521167755, -0.05472679063677788, 0.02568882517516613, -0.014998180791735649, 0.020809318870306015, 0.008440426550805569, -0.08004489541053772, 0.019786102697253227, 0.009861544705927372, -0.044532593339681625, -0.004325746558606625, 0.0038919614162296057, 0.08868469297885895, 0.11085879057645798, -0.0006823675357736647, -0.04468052461743355, -0.007166285999119282, -0.026732131838798523, 0.07394810765981674, -0.05500675365328789, 0.04568898677825928, 0.054641809314489365, 0.09526275843381882, 0.055664271116256714, 0.06861703097820282, -0.028884710744023323, -0.04471047222614288, -0.0742034912109375, 0.08310054987668991, 0.029218997806310654, -0.06641530990600586, -0.06828615814447403, 0.008827487006783485, 0.022068049758672714, 0.01856052689254284, 0.0916624665260315, 0.002960538724437356, 0.00490875169634819, 0.014377690851688385, 0.03895624354481697, 0.05035293474793434, 0.0047180065885186195, 0.03913554921746254, -0.06478098034858704, 0.006940280552953482, -0.002418538322672248, -0.06329821050167084, -0.01593915931880474, -0.05059649422764778, -0.009602662175893784, 0.015091273002326488, 0.04097181558609009, -0.03236023709177971, 0.03648587688803673, 0.054174937307834625, 0.011066013015806675, -0.010791953653097153, -0.040683187544345856, 0.043046098202466965, 0.04494859650731087, -0.026663245633244514, 0.0023437319323420525, 0.05011368915438652, -0.04153090715408325, -0.015878302976489067, -0.005552096292376518, 0.021936539560556412, 0.09045163542032242, 3.615080061688338e-33, -0.03384891152381897, 0.017047574743628502, -0.05022095888853073, 0.09204483032226562, -0.11159733682870865, -0.019431529566645622, 0.042141057550907135, -0.06355458498001099, -0.0736197903752327, 0.00909464806318283, -0.029509682208299637, -0.02304871752858162, 0.030552318319678307, -0.02823582850396633, -0.009061424992978573, -0.02591037005186081, -0.043954186141490936, -0.07317403703927994, 0.04654466360807419, -0.040234219282865524, 0.025906715542078018, -0.012308421544730663, 0.03414354845881462, -0.04809901863336563, -0.08607019484043121, -0.027671996504068375, -0.02173740044236183, 0.06360518932342529, -0.11147202551364899, -0.016965707764029503, 0.027634207159280777, 0.1195664256811142, -0.015095880255103111, 0.025592921301722527, 0.07347718626260757, -0.08606178313493729, 0.020832544192671776, -0.001801252830773592, 0.039819397032260895, 0.011797727085649967, -0.040827080607414246, 0.018438680097460747, -0.02343556471168995, -0.014302770607173443, 0.10948263853788376, 0.012013580650091171, -0.006521390285342932, 0.04264305159449577, -0.006922555156052113, -0.05512741208076477, 0.006127404980361462, 0.062300894409418106, -0.058261603116989136, -0.03205437585711479, -0.08038812130689621, -0.05828698351979256, -0.059228502213954926, 0.04677854850888252, -0.03577887639403343, 0.017645783722400665, -0.03318760544061661, 0.03808681294322014, 0.024486348032951355, 0.06761900335550308, -0.06663201749324799, 0.02389083243906498, -0.08620744198560715, 0.01320655271410942, -0.04209526628255844, 0.05013972893357277, 0.0303663220256567, -0.042813535779714584, -0.04189641401171684, -0.07985825836658478, 0.044223617762327194, 0.01964486949145794, 0.1875927895307541, -0.013572788797318935, -0.007721735630184412, -0.11531159281730652, -0.020829465240240097, -0.00034641529782675207, 0.02081693522632122, 0.04887109622359276, 0.11520346999168396, -0.057641658931970596, 0.010894239880144596, -0.07711547613143921, 0.008422204293310642, -0.009656931273639202, 0.036519553512334824, -0.013492296449840069, -0.013653391040861607, -0.07630862295627594, -0.05505308508872986, -5.926940964497855e-33, 0.06089756265282631, -0.059339698404073715, -0.0076186987571418285, 0.004459005314856768, -0.01763864792883396, -0.07378056645393372, -0.04394664987921715, -0.02622143179178238, -0.022038625553250313, -0.010379128158092499, 0.01320132240653038, -0.0008008539443835616, -0.00046219630166888237, 0.15275359153747559, -0.05127904191613197, 0.029585542157292366, 0.023767752572894096, -0.03622019290924072, 0.00019406131468713284, -0.005691414698958397, 0.0022822499740868807, 0.06456597149372101, -0.09373348206281662, -0.08967844396829605, -0.006502384319901466, 0.01443911250680685, -0.026709703728556633, -0.021936411038041115, 0.020442534238100052, -0.017784394323825836, 0.05290722846984863, -0.005395692307502031, -0.05923223868012428, -0.03367592766880989, 0.06924061477184296, 0.024757683277130127, 0.08829890191555023, -0.054257579147815704, 0.037919603288173676, -0.00138647120911628, -0.05436943098902702, -0.0025203947443515062, -0.019997872412204742, -0.042170118540525436, -0.030634043738245964, 0.06160491704940796, -0.021623577922582626, 0.01823338121175766, -0.06569856405258179, 0.06493738293647766, -0.08492584526538849, 0.009514013305306435, 0.03434205427765846, 0.009028550237417221, -0.005182776600122452, -0.008060186170041561, 0.01845640316605568, 0.0012993946438655257, -0.015183767303824425, 0.020587338134646416, -0.05596430227160454, -0.01662786863744259, -0.09073423594236374, 0.04103964567184448, 0.084560826420784, -0.005241452716290951, -0.030267661437392235, 0.0889715626835823, 0.09672200679779053, 0.08973734080791473, -0.04905416816473007, 0.013988934457302094, -0.09809578210115433, -0.08478942513465881, 0.026080643758177757, 0.018645072355866432, -0.014096529223024845, -0.04012572020292282, -0.10406600683927536, 0.04157508537173271, -0.015022286213934422, 0.03147212788462639, -0.06592641025781631, -0.07745909690856934, -0.030215401202440262, 0.04886184632778168, 0.04159140959382057, 0.05389571562409401, -0.09824488312005997, 0.006034132093191147, 0.055412910878658295, -0.014184615574777126, -0.013884753920137882, -0.004564405884593725, 0.004174593836069107, -6.781757377893882e-08, -0.022165097296237946, 0.07461198419332504, -0.051203902810811996, 0.0626940131187439, -0.024891851469874382, -0.06484980881214142, 0.05287318304181099, -0.07566174119710922, -0.023117272183299065, 0.03006255067884922, 0.02679600566625595, 0.004918932914733887, -0.024654464796185493, 0.014853213913738728, -0.023232487961649895, -0.003896728390827775, 0.009642057120800018, -0.03818008676171303, -0.06791633367538452, -0.022473568096756935, 0.02539694681763649, 0.007952891290187836, -0.019024305045604706, -0.09005865454673767, -0.031442392617464066, 0.041218794882297516, 0.020712077617645264, 0.001224175444804132, -0.036984384059906006, 0.01946731097996235, 0.03933073207736015, 0.0010869695106521249, -0.06567618995904922, -0.06505336612462997, -0.027837634086608887, 0.019553424790501595, -0.011042536236345768, -0.0029024723917245865, 0.07728659361600876, -0.13538673520088196, -0.0021284478716552258, 0.14410486817359924, 0.0249391607940197, 0.0545504093170166, 0.024374349042773247, -0.05876028910279274, -0.023140108212828636, 0.011599178425967693, 0.024950867518782616, -0.06089836359024048, -0.032737165689468384, -0.04349721595644951, 0.0022067565005272627, 0.051081206649541855, 0.10701099038124084, 0.05419904366135597, -0.007709800731390715, 0.11024057120084763, -0.0247957743704319, -0.005073873326182365, 0.020426087081432343, -0.023234626278281212, -0.002624613931402564, -0.07233955711126328]\n"
     ]
    }
   ],
   "source": [
    "chunk_embeddings = []\n",
    "embedding_function = SentenceTransformerEmbeddings(model_name=\"all-MiniLM-L6-v2\")\n",
    "for chunk in chunks:\n",
    "    chunk_embeddings.append(embedding_function.embed_query(chunk))\n",
    "\n",
    "print(len(chunk_embeddings[0]),chunk_embeddings[0])"
   ]
  },
  {
   "cell_type": "markdown",
   "id": "4a52f835-69f8-465d-a06e-fb5e31656b37",
   "metadata": {},
   "source": [
    "Finally, we will embed our prompt and use cosine similarity to find the most relevant chunk to the question we'd like answered"
   ]
  },
  {
   "cell_type": "code",
   "execution_count": 9,
   "id": "e3315f7c-6523-4aca-a624-2e2076b3e6bf",
   "metadata": {},
   "outputs": [],
   "source": [
    "user_question = \"What were James Garfield's views on civil service reform?\""
   ]
  },
  {
   "cell_type": "code",
   "execution_count": 11,
   "id": "587efed4-1d6a-402e-9c47-7259fbe898be",
   "metadata": {},
   "outputs": [
    {
     "name": "stdout",
     "output_type": "stream",
     "text": [
      " permitted to usurp in the smallest degree the functions and powers of the National Government. The civil service can never be placed on a satisfactory basis until it is regulated by law. For the good of the service itself, for the protection of those who are intrusted with the appointing power against the waste of time and obstruction to the public business caused by the inordinate pressure for place, and for the protection of incumbents against intrigue and wrong, I shall at the proper time ask Congress to fix the tenure of the minor offices of the several Executive Departments and prescribe the grounds upon which removals shall be made during the terms for which incumbents have been appointed. Finally, acting always within the authority and limitations of the Constitution, invading neither the rights of the States nor the reserved rights of the people, it will be the purpose of my Administration to maintain the authority of the nation in all places within its jurisdiction; to enforce obedience to all the laws of the Union in the interests of the people; to demand rigid economy in all the expenditures of the Government, and to require the honest and faithful service of all executive officers, remembering that the offices were created, not for the benefit of incumbents or their supporters, but for the service of the Government. And now, fellow citizens, I am about to assume the great trust which you have committed to my hands. I appeal to you for that earnest and thoughtful support which makes this Government in fact, as it is in law, a government of the people. I shall greatly rely upon the wisdom and patriotism of Congress and of those who may share with me the responsibilities and duties of administration, and, above all, upon our efforts to promote the welfare of this great people and their Government I reverently invoke the support and blessings of AlmightyGod\n"
     ]
    }
   ],
   "source": [
    "prompt_embeddings = embedding_function.embed_query(user_question) \n",
    "similarities = cosine_similarity([prompt_embeddings], chunk_embeddings)[0] \n",
    "closest_similarity_index = np.argmax(similarities) \n",
    "most_relevant_chunk = chunks[closest_similarity_index]\n",
    "print(most_relevant_chunk)"
   ]
  },
  {
   "cell_type": "markdown",
   "id": "913592d1-454f-43c1-9255-956c7c37b222",
   "metadata": {},
   "source": [
    "Now, we can feed the most relevant speech expert into our chat completion model so that the LLM can use it to answer our question:"
   ]
  },
  {
   "cell_type": "code",
   "execution_count": 14,
   "id": "159ace36-71bf-4af9-9719-83ba1182071f",
   "metadata": {},
   "outputs": [
    {
     "data": {
      "text/plain": [
       "'Based on the excerpt from James Garfield\\'s inaugural address, it is clear that he believed in the need for civil service reform. He stated that the \"civil service can never be placed on a satisfactory basis until it is regulated by law\" and that he would ask Congress to fix the tenure of minor offices and prescribe the grounds for removals. He also emphasized the importance of honest and faithful service from all executive officers. Therefore, it can be inferred that Garfield was in support of a merit-based civil service system and wanted to protect civil servants from political pressures and intrigue.\\n\\nSource: Inaugural Address, March 4, 1881.'"
      ]
     },
     "execution_count": 14,
     "metadata": {},
     "output_type": "execute_result"
    }
   ],
   "source": [
    "# A chat completion function that will use the most relevant exerpt(s) from presidential speeches to answer the user's question\n",
    "def presidential_speech_chat_completion(client, model, user_question, relevant_excerpts):\n",
    "    chat_completion = client.chat.completions.create(\n",
    "        messages = [\n",
    "            {\n",
    "                \"role\": \"system\",\n",
    "                \"content\": \"You are a presidential historian. Given the user's question and relevant excerpts from presidential speeches, answer the question by including direct quotes from presidential speeches. When using a quote, site the speech that it was from (ignoring the chunk).\" \n",
    "            },\n",
    "            {\n",
    "                \"role\": \"user\",\n",
    "                \"content\": \"User Question: \" + user_question + \"\\n\\nRelevant Speech Exerpt(s):\\n\\n\" + relevant_excerpts,\n",
    "            }\n",
    "        ],\n",
    "        model = model\n",
    "    )\n",
    "    \n",
    "    response = chat_completion.choices[0].message.content\n",
    "    return response\n",
    "\n",
    "\n",
    "presidential_speech_chat_completion(client, model, user_question, most_relevant_chunk)"
   ]
  },
  {
   "cell_type": "markdown",
   "id": "3b144390-558b-47a5-9c67-9e3a7b6c8138",
   "metadata": {},
   "source": [
    "### Using a Vector DB to store and retrieve embeddings for all speeches"
   ]
  },
  {
   "cell_type": "markdown",
   "id": "23ab35ad-d47b-4bfe-ac9c-5fbf4946f3ae",
   "metadata": {},
   "source": [
    "Now, let's repeat the same process for every speech in our .csv using the same text splitter as above. Note that we will be converting our text to a `Document` object so that it integrates with the vector database, and also prepending the president, date and title to the speech transcript to provide more context to the LLM:"
   ]
  },
  {
   "cell_type": "code",
   "execution_count": 13,
   "id": "94d8ba00-4360-4313-a271-272013a74f66",
   "metadata": {},
   "outputs": [
    {
     "name": "stdout",
     "output_type": "stream",
     "text": [
      "10698\n"
     ]
    }
   ],
   "source": [
    "documents = []\n",
    "for index, row in presidential_speeches_df[presidential_speeches_df['Transcript'].notnull()].iterrows():\n",
    "    chunks = text_splitter.split_text(row.Transcript)\n",
    "    total_chunks = len(chunks)\n",
    "    for chunk_num in range(1,total_chunks+1):\n",
    "        header = f\"Date: {row['Date']}\\nPresident: {row['President']}\\nSpeech Title: {row['Speech Title']} (chunk {chunk_num} of {total_chunks})\\n\\n\"\n",
    "        chunk = chunks[chunk_num-1]\n",
    "        documents.append(Document(page_content=header + chunk, metadata={\"source\": \"local\"}))\n",
    "\n",
    "print(len(documents))"
   ]
  },
  {
   "cell_type": "markdown",
   "id": "eec976bc-5f33-49bc-a61a-5f2ee4a293d6",
   "metadata": {},
   "source": [
    "I will be using a Pinecone index called `presidential-speeches` for this demo. As mentioned above, you can sign up for Pinecone's Starter plan for free and have access to a single index, which is ideal for a small personal project. You can also use Chroma DB as an open source alternative. Note that either Vector DB will use the same embedding function we've defined above"
   ]
  },
  {
   "cell_type": "code",
   "execution_count": 14,
   "id": "84d9ef15-62b4-4961-80d0-27a558389c8c",
   "metadata": {},
   "outputs": [
    {
     "data": {
      "text/plain": [
       "' Use Chroma for open source option\\ndocsearch = Chroma.from_documents(documents, embedding_function)\\n'"
      ]
     },
     "execution_count": 14,
     "metadata": {},
     "output_type": "execute_result"
    }
   ],
   "source": [
    "pinecone_index_name = \"presidential-speeches\"\n",
    "docsearch = PineconeVectorStore.from_documents(documents, embedding_function, index_name=pinecone_index_name)\n",
    "\n",
    "''' Use Chroma for open source option\n",
    "docsearch = Chroma.from_documents(documents, embedding_function)\n",
    "'''"
   ]
  },
  {
   "cell_type": "markdown",
   "id": "83dcec95-98f3-4d11-bb43-2ab967741067",
   "metadata": {},
   "source": [
    "Fortunately, all of the manual work we did above to embed text and use cosine similarity to find the most relevant chunk is done under the hood when using a vector database. Now, we can ask our question again, over the entire corpus of presidential speeches. Note that even with nearly 1000 speeches chunked and stored in our vector database, the similarity search still found the same one as when we only parsed Garfield's Inaugural Address:"
   ]
  },
  {
   "cell_type": "code",
   "execution_count": 15,
   "id": "f7d6698f-0331-43e7-9a83-2c5b684ec44c",
   "metadata": {},
   "outputs": [],
   "source": [
    "user_question = \"What were James Garfield's views on civil service reform?\""
   ]
  },
  {
   "cell_type": "code",
   "execution_count": 16,
   "id": "91f88d8d-d2a9-4289-a3b6-0a8415f0e72b",
   "metadata": {
    "scrolled": true
   },
   "outputs": [
    {
     "name": "stdout",
     "output_type": "stream",
     "text": [
      "Date: 1881-03-04\n",
      "President: James A. Garfield\n",
      "Speech Title: Inaugural Address (chunk 8 of 8)\n",
      "\n",
      " permitted to usurp in the smallest degree the functions and powers of the National Government. The civil service can never be placed on a satisfactory basis until it is regulated by law. For the good of the service itself, for the protection of those who are intrusted with the appointing power against the waste of time and obstruction to the public business caused by the inordinate pressure for place, and for the protection of incumbents against intrigue and wrong, I shall at the proper time ask Congress to fix the tenure of the minor offices of the several Executive Departments and prescribe the grounds upon which removals shall be made during the terms for which incumbents have been appointed. Finally, acting always within the authority and limitations of the Constitution, invading neither the rights of the States nor the reserved rights of the people, it will be the purpose of my Administration to maintain the authority of the nation in all places within its jurisdiction; to enforce obedience to all the laws of the Union in the interests of the people; to demand rigid economy in all the expenditures of the Government, and to require the honest and faithful service of all executive officers, remembering that the offices were created, not for the benefit of incumbents or their supporters, but for the service of the Government. And now, fellow citizens, I am about to assume the great trust which you have committed to my hands. I appeal to you for that earnest and thoughtful support which makes this Government in fact, as it is in law, a government of the people. I shall greatly rely upon the wisdom and patriotism of Congress and of those who may share with me the responsibilities and duties of administration, and, above all, upon our efforts to promote the welfare of this great people and their Government I reverently invoke the support and blessings of AlmightyGod\n"
     ]
    }
   ],
   "source": [
    "relevent_docs = docsearch.similarity_search(user_question)\n",
    "\n",
    "# print results\n",
    "print(relevent_docs[0].page_content)"
   ]
  },
  {
   "cell_type": "markdown",
   "id": "190c1a66-ded4-4340-94e9-0a789704c03d",
   "metadata": {},
   "source": [
    "We will use the three most relevant excerpts in our system prompt:"
   ]
  },
  {
   "cell_type": "code",
   "execution_count": 17,
   "id": "77a5b3bc-7e6a-40d8-b012-38bfebeaa641",
   "metadata": {
    "scrolled": true
   },
   "outputs": [
    {
     "name": "stdout",
     "output_type": "stream",
     "text": [
      "Date: 1881-03-04\n",
      "President: James A. Garfield\n",
      "Speech Title: Inaugural Address (chunk 8 of 8)\n",
      "\n",
      " permitted to usurp in the smallest degree the functions and powers of the National Government. The civil service can never be placed on a satisfactory basis until it is regulated by law. For the good of the service itself, for the protection of those who are intrusted with the appointing power against the waste of time and obstruction to the public business caused by the inordinate pressure for place, and for the protection of incumbents against intrigue and wrong, I shall at the proper time ask Congress to fix the tenure of the minor offices of the several Executive Departments and prescribe the grounds upon which removals shall be made during the terms for which incumbents have been appointed. Finally, acting always within the authority and limitations of the Constitution, invading neither the rights of the States nor the reserved rights of the people, it will be the purpose of my Administration to maintain the authority of the nation in all places within its jurisdiction; to enforce obedience to all the laws of the Union in the interests of the people; to demand rigid economy in all the expenditures of the Government, and to require the honest and faithful service of all executive officers, remembering that the offices were created, not for the benefit of incumbents or their supporters, but for the service of the Government. And now, fellow citizens, I am about to assume the great trust which you have committed to my hands. I appeal to you for that earnest and thoughtful support which makes this Government in fact, as it is in law, a government of the people. I shall greatly rely upon the wisdom and patriotism of Congress and of those who may share with me the responsibilities and duties of administration, and, above all, upon our efforts to promote the welfare of this great people and their Government I reverently invoke the support and blessings of AlmightyGod\n",
      "\n",
      "------------------------------------------------------\n",
      "\n",
      "Date: 1881-03-04\n",
      "President: James A. Garfield\n",
      "Speech Title: Inaugural Address (chunk 3 of 8)\n",
      "\n",
      " is the most important political change we have known since the adoption of the Constitution of 1787. NO thoughtful man can fail to appreciate its beneficent effect upon our institutions and people. It has freed us from the perpetual danger of war and dissolution. It has added immensely to the moral and industrial forces of our people. It has liberated the master as well as the slave from a relation which wronged and enfeebled both. It has surrendered to their own guardianship the manhood of more than mechanical ) double, and has opened to each one of them a career of freedom and usefulness. It has given new inspiration to the power of self help in both races by making labor more honorable to the one and more necessary to the other. The influence of this force will grow greater and bear richer fruit with the coming years. No doubt this great change has caused serious disturbance to our Southern communities. This is to be deplored, though it was perhaps unavoidable. But those who resisted the change should remember that under our institutions there was no middle ground for the negro race between slavery and equal citizenship. There can be no permanent disfranchised peasantry in the UnitedStates. Freedom can never yield its fullness of blessings so long as the law or its administration places the smallest obstacle in the pathway of any virtuous citizen. The emancipated race has already made remarkable progress. With unquestioning devotion to the Union, with a patience and gentleness not born of fear, they have “followed the light as God gave them to see the light.” They are rapidly laying the material foundations of self support, widening their circle of intelligence, and beginning to enjoy the blessings that gather around the homes of the industrious poor. They deserve the generous encouragement of all good men. So far as my authority can lawfully extend they shall enjoy the full and equal protection of the Constitution and the laws. The free enjoyment of equal suffrage is still in question, and a frank statement of the issue may aid its solution. It is alleged that in many communities negro citizens are practically denied the freedom of the ballot. In so far as the truth of this allegation is admitted, it is answered that in many places honest local government is impossible if the mass of un\n",
      "\n",
      "------------------------------------------------------\n",
      "\n",
      "Date: 1882-12-04\n",
      "President: Chester A. Arthur\n",
      "Speech Title: Second Annual Message (chunk 27 of 29)\n",
      "\n",
      " the Senate bill, to which I have already referred, exclusively applies. While neither that bill nor any other prominent scheme for improving the civil service concerns the higher grade of officials, who are appointed by the President and confirmed by the Senate, I feel bound to correct a prevalent misapprehension as to the frequency with which the present Executive has displaced the incumbent of an office and appointed another in his stead. It has been repeatedly alleged that he has in this particular signally departed from the course which has been pursued under recent Administrations of the Government. The facts are as follows: The whole number of Executive appointments during the four years immediately preceding Mr. Garfield's accession to the Presidency was 2,696. Of this number 244, or 9 per cent, involved the removal of previous incumbents. The ratio of removals to the whole number of appointments was much the same during each of those four years. In the first year, with 790 appointments, there were 74 removals, or 9.3 per cent; in the second, with 917 appointments, there were 85 removals, or 8.5 per cent; in the third, with 480 appointments, there were 48 removals, or 10 per cent; in the fourth, with 429 appointments, there were 37 removals, or 8.6 per cent. In the four months of President Garfield's Administration there were 390 appointments and 89 removals, or 22.7 per cent. Precisely the same number of removals ( 89 ) has taken place in the fourteen months which have since elapsed, but they constitute only 7.8 per cent of the whole number of appointments ( 1,11MADISON. By within that period and less than 2.6 of the entire list of officials ( 3,459 ), exclusive of the Army and Navy, which is filled by Presidential appointment. I declare my approval of such legislation as may be found necessary for supplementing the existing provisions of law in relation to political assessments. In July last I authorized a public announcement that employees of the Government should regard themselves as at liberty to exercise their pleasure in making or refusing to make political contributions, and that their action in that regard would in no manner\n"
     ]
    }
   ],
   "source": [
    "relevant_excerpts = '\\n\\n------------------------------------------------------\\n\\n'.join([doc.page_content for doc in relevent_docs[:3]])\n",
    "print(relevant_excerpts)"
   ]
  },
  {
   "cell_type": "code",
   "execution_count": 18,
   "id": "9b2fc804-4d5e-4db2-b185-79ff85c36362",
   "metadata": {},
   "outputs": [
    {
     "data": {
      "text/plain": [
       "'Based on the provided excerpt from James A. Garfield\\'s Inaugural Address, he supports civil service reform through regulation by law. He states, \"The civil service can never be placed on a satisfactory basis until it is regulated by law.\" He also addresses the importance of protecting those in office from \"waste of time and obstruction to the public business caused by the inordinate pressure for place\" and \"protection of incumbents against intrigue and wrong.\" Furthermore, Garfield intends to enforce obedience to all laws and require \"honest and faithful service of all executive officers.\" Additionally, Garfield believes in \"rigid economy in all the expenditures of the Government\" and the importance of appointments being \"for the service of the Government\" rather than \"for the benefit of incumbents or their supporters.\"\\n\\nIt is worth noting that the second excerpt from Garfield\\'s Inaugural Address focuses on his views on civil rights and the recent abolition of slavery. He emphasizes his support for \"the full and equal protection of the Constitution and the laws\" for all citizens.\\n\\nIn the excerpt from Chester A. Arthur\\'s Second Annual Message, he provides statistical information regarding removals and appointments of offices in previous administrations, including James Garfield\\'s. According to this data, during Garfield\\'s four months in office, there were 390 appointments with 89 removals, resulting in a 22.7% removal rate. This is slightly above the 9% removal rate over the preceding four years. Arthur states that these figures should help correct the \"prevalent misapprehension\" of Garfield\\'s administration \"departed from the course which has been pursued under recent Administrations of the Government.\"'"
      ]
     },
     "execution_count": 18,
     "metadata": {},
     "output_type": "execute_result"
    }
   ],
   "source": [
    "presidential_speech_chat_completion(client, model, user_question, relevant_excerpts)"
   ]
  },
  {
   "cell_type": "markdown",
   "id": "4bc73962-81aa-4ca7-88dd-83793195d382",
   "metadata": {},
   "source": [
    "# Conclusion"
   ]
  },
  {
   "cell_type": "markdown",
   "id": "c9b86556-d31d-4896-a342-8eff9d9fb48b",
   "metadata": {},
   "source": [
    "In this notebook we've shown how to implement a RAG system using Groq API, LangChain and Pinecone by embedding, storing and searching over nearly 1,000 speeches from US presidents. By embedding speech transcripts into a vector database and leveraging the power of semantic search, we have demonstrated how to overcome two of the most significant challenges faced by large language models (LLMs): the knowledge cutoff and hallucination issues."
   ]
  }
 ],
 "metadata": {
  "kernelspec": {
   "display_name": "Python 3 (ipykernel)",
   "language": "python",
   "name": "python3"
  },
  "language_info": {
   "codemirror_mode": {
    "name": "ipython",
    "version": 3
   },
   "file_extension": ".py",
   "mimetype": "text/x-python",
   "name": "python",
   "nbconvert_exporter": "python",
   "pygments_lexer": "ipython3",
   "version": "3.11.6"
  }
 },
 "nbformat": 4,
 "nbformat_minor": 5
}
