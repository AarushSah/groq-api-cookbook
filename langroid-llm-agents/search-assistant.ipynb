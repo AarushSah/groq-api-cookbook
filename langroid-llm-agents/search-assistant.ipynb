{
  "nbformat": 4,
  "nbformat_minor": 0,
  "metadata": {
    "colab": {
      "provenance": [],
      "authorship_tag": "ABX9TyN1KzLCP+Gmg1R2u+Uo6kAN",
      "include_colab_link": true
    },
    "kernelspec": {
      "name": "python3",
      "display_name": "Python 3"
    },
    "language_info": {
      "name": "python"
    }
  },
  "cells": [
    {
      "cell_type": "markdown",
      "metadata": {
        "id": "view-in-github",
        "colab_type": "text"
      },
      "source": [
        "<a href=\"https://colab.research.google.com/github/langroid/groq-api-cookbook/blob/main/langroid-llm-agents/search-assistant.ipynb\" target=\"_parent\"><img src=\"https://colab.research.google.com/assets/colab-badge.svg\" alt=\"Open In Colab\"/></a>"
      ]
    },
    {
      "cell_type": "markdown",
      "source": [
        "Get your `GROQ_API_KEY` here:\n",
        "\n",
        "https://console.groq.com/keys\n",
        "\n"
      ],
      "metadata": {
        "id": "Z_u8yF0cJJ2B"
      }
    },
    {
      "cell_type": "code",
      "execution_count": 1,
      "metadata": {
        "colab": {
          "base_uri": "https://localhost:8080/"
        },
        "id": "UBdvGAHlIhYb",
        "outputId": "e681dcc9-e37a-4614-cb22-311f26660695"
      },
      "outputs": [
        {
          "output_type": "stream",
          "name": "stdout",
          "text": [
            "Name: langroid\n",
            "Version: 0.1.239\n",
            "Summary: Harness LLMs with Multi-Agent Programming\n",
            "Home-page: \n",
            "Author: Prasad Chalasani\n",
            "Author-email: pchalasani@gmail.com\n",
            "License: MIT\n",
            "Location: /usr/local/lib/python3.10/dist-packages\n",
            "Requires: aiohttp, async-generator, autopep8, black, bs4, colorlog, docstring-parser, duckduckgo-search, faker, fakeredis, fire, flake8, google-api-python-client, groq, grpcio, halo, jinja2, lancedb, lxml, meilisearch, meilisearch-python-sdk, momento, mypy, nest-asyncio, nltk, onnxruntime, openai, pandas, pdf2image, pdfplumber, pre-commit, prettytable, pyarrow, pydantic, pygithub, pygments, pymupdf, pyparsing, pypdf, pytesseract, pytest-asyncio, pytest-redis, python-docx, python-dotenv, python-magic, qdrant-client, rank-bm25, redis, requests, requests-oauthlib, rich, ruff, scrapy, sqlalchemy, tantivy, thefuzz, tiktoken, trafilatura, typer, types-pillow, types-pyyaml, types-redis, types-requests, wget\n",
            "Required-by: \n"
          ]
        }
      ],
      "source": [
        "!pip install -q --upgrade langroid &> /dev/null\n",
        "!pip show langroid\n"
      ]
    },
    {
      "cell_type": "code",
      "source": [
        "import os\n",
        "import getpass\n",
        "os.environ[\"GROQ_API_KEY\"] = getpass.getpass(\"Enter your GROQ_API_KEY: \")"
      ],
      "metadata": {
        "colab": {
          "base_uri": "https://localhost:8080/"
        },
        "id": "7uJwV8DuIq-F",
        "outputId": "0df8d5ed-c043-4f23-819d-0edf2c4a1241"
      },
      "execution_count": 9,
      "outputs": [
        {
          "name": "stdout",
          "output_type": "stream",
          "text": [
            "Enter your GROQ_API_KEY: ··········\n"
          ]
        }
      ]
    },
    {
      "cell_type": "code",
      "source": [
        "import langroid as lr\n",
        "import langroid.language_models as lm\n",
        "from langroid.agent.tools.duckduckgo_search_tool import DuckduckgoSearchTool\n",
        "from langroid.utils.configuration import settings\n",
        "settings.notebook = True\n",
        "\n",
        "MODEL = \"groq/llama3-70b-8192\"\n"
      ],
      "metadata": {
        "id": "dZnsG9APJtZa"
      },
      "execution_count": 10,
      "outputs": []
    },
    {
      "cell_type": "markdown",
      "source": [
        "Configure the LLM, define the Assistant Agent and Task"
      ],
      "metadata": {
        "id": "qDLCActTKpi_"
      }
    },
    {
      "cell_type": "code",
      "source": [
        "llm_config = lm.OpenAIGPTConfig(\n",
        "      chat_model=MODEL, # or lr.OpenAIChatModel.GPT4_TURBO\n",
        "      chat_context_length=8192,\n",
        "      temperature=0,\n",
        "      max_output_tokens=200,\n",
        "      timeout=45,\n",
        "  )\n",
        "\n",
        "assistant_config = lr.ChatAgentConfig(\n",
        "    system_message=\"\"\"\n",
        "    You are a resourceful assistant, able to think step by step to answer\n",
        "    complex questions from the user. You must break down complex questions into\n",
        "    simpler questions that can be answered by a web search. You must ask me\n",
        "    (the user) each question ONE BY ONE, and I will do a web search and send you\n",
        "    a brief answer. Once you have enough information to answer my original\n",
        "    (complex) question, you MUST say DONE and present the answer to me.\n",
        "    \"\"\",\n",
        "    llm=llm_config,\n",
        "    vecdb=None,\n",
        ")\n",
        "assistant_agent = lr.ChatAgent(assistant_config)\n",
        "\n",
        "assistant_task = lr.Task(\n",
        "    assistant_agent,\n",
        "    name=\"Assistant\",\n",
        "    llm_delegate=True,\n",
        "    single_round=False,\n",
        "    interactive=False,\n",
        ")\n",
        "\n",
        "\n",
        "\n"
      ],
      "metadata": {
        "id": "eS2J7KqBKkfH",
        "colab": {
          "base_uri": "https://localhost:8080/"
        },
        "outputId": "3016a989-7074-4269-c2be-b425e42c8694"
      },
      "execution_count": 11,
      "outputs": [
        {
          "output_type": "stream",
          "name": "stderr",
          "text": [
            "WARNING:langroid.cachedb.redis_cachedb:REDIS_PASSWORD, REDIS_HOST, REDIS_PORT not set in .env file,\n",
            "                    using fake redis client\n",
            "\u001b[33m2024-05-03 12:07:20 - WARNING - REDIS_PASSWORD, REDIS_HOST, REDIS_PORT not set in .env file,\n",
            "                    using fake redis client\u001b[0m\n"
          ]
        }
      ]
    },
    {
      "cell_type": "markdown",
      "source": [
        "Define the Searcher Agent and Task\n"
      ],
      "metadata": {
        "id": "ZwEd43ngKvlL"
      }
    },
    {
      "cell_type": "code",
      "source": [
        "search_tool_handler_method = DuckduckgoSearchTool.default_value(\"request\")\n",
        "\n",
        "search_agent_config = lr.ChatAgentConfig(\n",
        "    llm=llm_config,\n",
        "    vecdb=None,\n",
        "    system_message=f\"\"\"\n",
        "    You are a web-searcher. For any question you get, you must use the\n",
        "    `{search_tool_handler_method}` tool/function-call to get up to 5 results.\n",
        "    I WILL SEND YOU THE RESULTS; DO NOT MAKE UP THE RESULTS!!\n",
        "    Once you receive the results, you must compose a CONCISE answer\n",
        "    based on the search results and say DONE and show the answer to me,\n",
        "    in this format:\n",
        "    DONE [... your CONCISE answer here ...]\n",
        "    IMPORTANT: YOU MUST WAIT FOR ME TO SEND YOU THE\n",
        "    SEARCH RESULTS BEFORE saying you're DONE.\n",
        "    \"\"\",\n",
        ")\n",
        "search_agent = lr.ChatAgent(search_agent_config)\n",
        "search_agent.enable_message(DuckduckgoSearchTool)\n",
        "\n",
        "\n",
        "search_task = lr.Task(\n",
        "    search_agent,\n",
        "    name=\"Searcher\",\n",
        "    llm_delegate=True,\n",
        "    single_round=False,\n",
        "    interactive=False,\n",
        ")"
      ],
      "metadata": {
        "id": "5oLidvmnLNDz",
        "colab": {
          "base_uri": "https://localhost:8080/"
        },
        "outputId": "ef2973b7-48d6-4b49-8dd4-466bda5349d6"
      },
      "execution_count": 12,
      "outputs": [
        {
          "output_type": "stream",
          "name": "stderr",
          "text": [
            "WARNING:langroid.cachedb.redis_cachedb:REDIS_PASSWORD, REDIS_HOST, REDIS_PORT not set in .env file,\n",
            "                    using fake redis client\n",
            "\u001b[33m2024-05-03 12:07:23 - WARNING - REDIS_PASSWORD, REDIS_HOST, REDIS_PORT not set in .env file,\n",
            "                    using fake redis client\u001b[0m\n"
          ]
        }
      ]
    },
    {
      "cell_type": "markdown",
      "source": [
        "Make the Searcher Task a sub-task of the Assistant Task, and run the Assistant Task."
      ],
      "metadata": {
        "id": "NmZRm9sbLRih"
      }
    },
    {
      "cell_type": "code",
      "source": [
        "assistant_task.add_sub_task(search_task)\n",
        "question = \"Was List born before Wagner?\"\n",
        "assistant_task.run(question)"
      ],
      "metadata": {
        "id": "o5GD_wGwLZR-",
        "colab": {
          "base_uri": "https://localhost:8080/",
          "height": 1000
        },
        "outputId": "a9412994-45b0-4a5c-b2b6-0b616cd3bb76"
      },
      "execution_count": 13,
      "outputs": [
        {
          "output_type": "display_data",
          "data": {
            "text/plain": [
              "\u001b[1;35m>>> Starting Agent Assistant \u001b[0m\u001b[1;35m(\u001b[0m\u001b[1;35m1\u001b[0m\u001b[1;35m)\u001b[0m\u001b[1;35m groq/llama3-70b-\u001b[0m\u001b[1;35m8192\u001b[0m\u001b[1;35m \u001b[0m\n"
            ],
            "text/html": [
              "<pre style=\"white-space:pre;overflow-x:auto;line-height:normal;font-family:Menlo,'DejaVu Sans Mono',consolas,'Courier New',monospace\"><span style=\"color: #800080; text-decoration-color: #800080; font-weight: bold\">&gt;&gt;&gt; Starting Agent Assistant (</span><span style=\"color: #800080; text-decoration-color: #800080; font-weight: bold\">1</span><span style=\"color: #800080; text-decoration-color: #800080; font-weight: bold\">) groq/llama3-70b-</span><span style=\"color: #800080; text-decoration-color: #800080; font-weight: bold\">8192</span><span style=\"color: #800080; text-decoration-color: #800080; font-weight: bold\"> </span>\n",
              "</pre>\n"
            ]
          },
          "metadata": {}
        },
        {
          "output_type": "display_data",
          "data": {
            "text/plain": [],
            "text/html": [
              "<pre style=\"white-space:pre;overflow-x:auto;line-height:normal;font-family:Menlo,'DejaVu Sans Mono',consolas,'Courier New',monospace\"></pre>\n"
            ]
          },
          "metadata": {}
        },
        {
          "output_type": "stream",
          "name": "stdout",
          "text": [
            "\u001b[32m\u001b[32mLet\u001b[32m's\u001b[32m break\u001b[32m this\u001b[32m down\u001b[32m step\u001b[32m by\u001b[32m step\u001b[32m.\n",
            "\n",
            "\u001b[32mHere\u001b[32m's\u001b[32m my\u001b[32m first\u001b[32m question\u001b[32m:\n",
            "\n",
            "\u001b[32mWhen\u001b[32m was\u001b[32m Franz\u001b[32m Lis\u001b[32mzt\u001b[32m born\u001b[32m?"
          ]
        },
        {
          "output_type": "display_data",
          "data": {
            "text/plain": [
              "\n"
            ],
            "text/html": [
              "<pre style=\"white-space:pre;overflow-x:auto;line-height:normal;font-family:Menlo,'DejaVu Sans Mono',consolas,'Courier New',monospace\">\n",
              "</pre>\n"
            ]
          },
          "metadata": {}
        },
        {
          "output_type": "display_data",
          "data": {
            "text/plain": [
              "\u001b[1mStats:\u001b[0m \u001b[35mN_MSG\u001b[0m\u001b[35m=\u001b[0m\u001b[1;35m2\u001b[0m\u001b[35m, TOKENS: \u001b[0m\u001b[35min\u001b[0m\u001b[35m=\u001b[0m\u001b[1;35m108\u001b[0m\u001b[35m, \u001b[0m\u001b[35mout\u001b[0m\u001b[35m=\u001b[0m\u001b[1;35m22\u001b[0m\u001b[35m, \u001b[0m\u001b[35mmax\u001b[0m\u001b[35m=\u001b[0m\u001b[1;35m200\u001b[0m\u001b[35m, \u001b[0m\u001b[35mctx\u001b[0m\u001b[35m=\u001b[0m\u001b[1;35m8192\u001b[0m\u001b[35m, COST: \u001b[0m\u001b[35mnow\u001b[0m\u001b[35m=$\u001b[0m\u001b[1;35m0.0000\u001b[0m\u001b[35m, \u001b[0m\u001b[35mcumul\u001b[0m\u001b[35m=$\u001b[0m\u001b[1;35m0.0000\u001b[0m\u001b[35m \u001b[0m\u001b[1;35m(\u001b[0m\u001b[1;35mllama3-70b-\u001b[0m\u001b[1;35m8192\u001b[0m\u001b[1;35m)\u001b[0m\n"
            ],
            "text/html": [
              "<pre style=\"white-space:pre;overflow-x:auto;line-height:normal;font-family:Menlo,'DejaVu Sans Mono',consolas,'Courier New',monospace\"><span style=\"font-weight: bold\">Stats:</span> <span style=\"color: #800080; text-decoration-color: #800080\">N_MSG</span><span style=\"color: #800080; text-decoration-color: #800080\">=</span><span style=\"color: #800080; text-decoration-color: #800080; font-weight: bold\">2</span><span style=\"color: #800080; text-decoration-color: #800080\">, TOKENS: </span><span style=\"color: #800080; text-decoration-color: #800080\">in</span><span style=\"color: #800080; text-decoration-color: #800080\">=</span><span style=\"color: #800080; text-decoration-color: #800080; font-weight: bold\">108</span><span style=\"color: #800080; text-decoration-color: #800080\">, </span><span style=\"color: #800080; text-decoration-color: #800080\">out</span><span style=\"color: #800080; text-decoration-color: #800080\">=</span><span style=\"color: #800080; text-decoration-color: #800080; font-weight: bold\">22</span><span style=\"color: #800080; text-decoration-color: #800080\">, </span><span style=\"color: #800080; text-decoration-color: #800080\">max</span><span style=\"color: #800080; text-decoration-color: #800080\">=</span><span style=\"color: #800080; text-decoration-color: #800080; font-weight: bold\">200</span><span style=\"color: #800080; text-decoration-color: #800080\">, </span><span style=\"color: #800080; text-decoration-color: #800080\">ctx</span><span style=\"color: #800080; text-decoration-color: #800080\">=</span><span style=\"color: #800080; text-decoration-color: #800080; font-weight: bold\">8192</span><span style=\"color: #800080; text-decoration-color: #800080\">, COST: </span><span style=\"color: #800080; text-decoration-color: #800080\">now</span><span style=\"color: #800080; text-decoration-color: #800080\">=$</span><span style=\"color: #800080; text-decoration-color: #800080; font-weight: bold\">0.0000</span><span style=\"color: #800080; text-decoration-color: #800080\">, </span><span style=\"color: #800080; text-decoration-color: #800080\">cumul</span><span style=\"color: #800080; text-decoration-color: #800080\">=$</span><span style=\"color: #800080; text-decoration-color: #800080; font-weight: bold\">0.0000</span><span style=\"color: #800080; text-decoration-color: #800080\"> </span><span style=\"color: #800080; text-decoration-color: #800080; font-weight: bold\">(llama3-70b-</span><span style=\"color: #800080; text-decoration-color: #800080; font-weight: bold\">8192</span><span style=\"color: #800080; text-decoration-color: #800080; font-weight: bold\">)</span>\n",
              "</pre>\n"
            ]
          },
          "metadata": {}
        },
        {
          "output_type": "display_data",
          "data": {
            "text/plain": [
              "\u001b[1;35m...\u001b[0m\u001b[1;35m|>>> Starting Agent Searcher \u001b[0m\u001b[1;35m(\u001b[0m\u001b[1;35m1\u001b[0m\u001b[1;35m)\u001b[0m\u001b[1;35m groq/llama3-70b-\u001b[0m\u001b[1;35m8192\u001b[0m\u001b[1;35m \u001b[0m\n"
            ],
            "text/html": [
              "<pre style=\"white-space:pre;overflow-x:auto;line-height:normal;font-family:Menlo,'DejaVu Sans Mono',consolas,'Courier New',monospace\"><span style=\"color: #800080; text-decoration-color: #800080; font-weight: bold\">...|&gt;&gt;&gt; Starting Agent Searcher (</span><span style=\"color: #800080; text-decoration-color: #800080; font-weight: bold\">1</span><span style=\"color: #800080; text-decoration-color: #800080; font-weight: bold\">) groq/llama3-70b-</span><span style=\"color: #800080; text-decoration-color: #800080; font-weight: bold\">8192</span><span style=\"color: #800080; text-decoration-color: #800080; font-weight: bold\"> </span>\n",
              "</pre>\n"
            ]
          },
          "metadata": {}
        },
        {
          "output_type": "display_data",
          "data": {
            "text/plain": [
              "\u001b[32m...\u001b[0m\u001b[32m|\u001b[0m"
            ],
            "text/html": [
              "<pre style=\"white-space:pre;overflow-x:auto;line-height:normal;font-family:Menlo,'DejaVu Sans Mono',consolas,'Courier New',monospace\"><span style=\"color: #008000; text-decoration-color: #008000\">...|</span></pre>\n"
            ]
          },
          "metadata": {}
        },
        {
          "output_type": "stream",
          "name": "stdout",
          "text": [
            "\u001b[32m\u001b[32mTO\u001b[32mOL\u001b[32m:\u001b[32m {\n",
            "\u001b[32m\"\u001b[32mrequest\u001b[32m\":\u001b[32m \"\u001b[32mduck\u001b[32mduck\u001b[32mgo\u001b[32m_search\u001b[32m\",\n",
            "\u001b[32m\"\u001b[32mquery\u001b[32m\":\u001b[32m \"\u001b[32mWhen\u001b[32m was\u001b[32m Franz\u001b[32m Lis\u001b[32mzt\u001b[32m born\u001b[32m?\",\n",
            "\u001b[32m\"\u001b[32mnum\u001b[32m_results\u001b[32m\":\u001b[32m \u001b[32m5\u001b[32m\n",
            "\u001b[32m}"
          ]
        },
        {
          "output_type": "display_data",
          "data": {
            "text/plain": [
              "\n"
            ],
            "text/html": [
              "<pre style=\"white-space:pre;overflow-x:auto;line-height:normal;font-family:Menlo,'DejaVu Sans Mono',consolas,'Courier New',monospace\">\n",
              "</pre>\n"
            ]
          },
          "metadata": {}
        },
        {
          "output_type": "display_data",
          "data": {
            "text/plain": [
              "\u001b[33m...\u001b[0m|\u001b[1mStats:\u001b[0m \u001b[35mN_MSG\u001b[0m\u001b[35m=\u001b[0m\u001b[1;35m2\u001b[0m\u001b[35m, TOKENS: \u001b[0m\u001b[35min\u001b[0m\u001b[35m=\u001b[0m\u001b[1;35m411\u001b[0m\u001b[35m, \u001b[0m\u001b[35mout\u001b[0m\u001b[35m=\u001b[0m\u001b[1;35m32\u001b[0m\u001b[35m, \u001b[0m\u001b[35mmax\u001b[0m\u001b[35m=\u001b[0m\u001b[1;35m200\u001b[0m\u001b[35m, \u001b[0m\u001b[35mctx\u001b[0m\u001b[35m=\u001b[0m\u001b[1;35m8192\u001b[0m\u001b[35m, COST: \u001b[0m\u001b[35mnow\u001b[0m\u001b[35m=$\u001b[0m\u001b[1;35m0.0000\u001b[0m\u001b[35m, \u001b[0m\u001b[35mcumul\u001b[0m\u001b[35m=$\u001b[0m\u001b[1;35m0.0000\u001b[0m\u001b[35m \u001b[0m\u001b[1;35m(\u001b[0m\u001b[1;35mllama3-70b-\u001b[0m\u001b[1;35m8192\u001b[0m\u001b[1;35m)\u001b[0m\n"
            ],
            "text/html": [
              "<pre style=\"white-space:pre;overflow-x:auto;line-height:normal;font-family:Menlo,'DejaVu Sans Mono',consolas,'Courier New',monospace\"><span style=\"color: #808000; text-decoration-color: #808000\">...</span>|<span style=\"font-weight: bold\">Stats:</span> <span style=\"color: #800080; text-decoration-color: #800080\">N_MSG</span><span style=\"color: #800080; text-decoration-color: #800080\">=</span><span style=\"color: #800080; text-decoration-color: #800080; font-weight: bold\">2</span><span style=\"color: #800080; text-decoration-color: #800080\">, TOKENS: </span><span style=\"color: #800080; text-decoration-color: #800080\">in</span><span style=\"color: #800080; text-decoration-color: #800080\">=</span><span style=\"color: #800080; text-decoration-color: #800080; font-weight: bold\">411</span><span style=\"color: #800080; text-decoration-color: #800080\">, </span><span style=\"color: #800080; text-decoration-color: #800080\">out</span><span style=\"color: #800080; text-decoration-color: #800080\">=</span><span style=\"color: #800080; text-decoration-color: #800080; font-weight: bold\">32</span><span style=\"color: #800080; text-decoration-color: #800080\">, </span><span style=\"color: #800080; text-decoration-color: #800080\">max</span><span style=\"color: #800080; text-decoration-color: #800080\">=</span><span style=\"color: #800080; text-decoration-color: #800080; font-weight: bold\">200</span><span style=\"color: #800080; text-decoration-color: #800080\">, </span><span style=\"color: #800080; text-decoration-color: #800080\">ctx</span><span style=\"color: #800080; text-decoration-color: #800080\">=</span><span style=\"color: #800080; text-decoration-color: #800080; font-weight: bold\">8192</span><span style=\"color: #800080; text-decoration-color: #800080\">, COST: </span><span style=\"color: #800080; text-decoration-color: #800080\">now</span><span style=\"color: #800080; text-decoration-color: #800080\">=$</span><span style=\"color: #800080; text-decoration-color: #800080; font-weight: bold\">0.0000</span><span style=\"color: #800080; text-decoration-color: #800080\">, </span><span style=\"color: #800080; text-decoration-color: #800080\">cumul</span><span style=\"color: #800080; text-decoration-color: #800080\">=$</span><span style=\"color: #800080; text-decoration-color: #800080; font-weight: bold\">0.0000</span><span style=\"color: #800080; text-decoration-color: #800080\"> </span><span style=\"color: #800080; text-decoration-color: #800080; font-weight: bold\">(llama3-70b-</span><span style=\"color: #800080; text-decoration-color: #800080; font-weight: bold\">8192</span><span style=\"color: #800080; text-decoration-color: #800080; font-weight: bold\">)</span>\n",
              "</pre>\n"
            ]
          },
          "metadata": {}
        },
        {
          "output_type": "display_data",
          "data": {
            "text/plain": [
              "\u001b[31m...\u001b[0m\u001b[31m|\u001b[0m"
            ],
            "text/html": [
              "<pre style=\"white-space:pre;overflow-x:auto;line-height:normal;font-family:Menlo,'DejaVu Sans Mono',consolas,'Courier New',monospace\"><span style=\"color: #800000; text-decoration-color: #800000\">...|</span></pre>\n"
            ]
          },
          "metadata": {}
        },
        {
          "output_type": "display_data",
          "data": {
            "text/plain": [
              "\u001b[31mAgent: \u001b[0m\n",
              "\u001b[31m        BELOW ARE THE RESULTS FROM THE WEB SEARCH. USE THESE TO COMPOSE YOUR RESPONSE:\u001b[0m\n",
              "\u001b[31m        Title: Franz Liszt - Wikipedia\u001b[0m\n",
              "\u001b[31mLink: \u001b[0m\u001b[4;31mhttps://en.wikipedia.org/wiki/Franz_Liszt\u001b[0m\n",
              "\u001b[31mSummary: Franz Liszt - Wikipedia Jump to content Main menu Main menu move to sidebar hide Navigation Main page \u001b[0m\n",
              "\u001b[31mContents Current events Random article About Wikipedia Contact us Donate Contribute Help Learn to edit Community \u001b[0m\n",
              "\u001b[31mportal Recent changes Upload file Search Search Create account Log in Personal tools \u001b[0m\n",
              "\n",
              "\u001b[31mTitle: Franz Liszt | Biography, Music, Compositions, Famous Works, Children \u001b[0m\u001b[31m...\u001b[0m\n",
              "\u001b[31mLink: \u001b[0m\u001b[4;31mhttps://www.britannica.com/biography/Franz-Liszt\u001b[0m\n",
              "\u001b[31mSummary: Franz Liszt | Biography, Music, Compositions, Famous Works, Children, & Facts | Britannica Search \u001b[0m\n",
              "\u001b[31mBritannica Click here to search Search Britannica Click here to search Login Subscribe Now Subscribe Home Games & \u001b[0m\n",
              "\u001b[31mQuizzes History & Society Science & Tech Biographies Animals & Nature Geography & Travel\u001b[0m\n",
              "\n",
              "\u001b[31mTitle: Franz Liszt - Compositions, Facts & Death - Biography\u001b[0m\n",
              "\u001b[31mLink: \u001b[0m\u001b[4;31mhttps://www.biography.com/musicians/franz-liszt\u001b[0m\n",
              "\u001b[31mSummary: Franz Liszt - Compositions, Facts & Death Search Women’s History History & Culture Musicians Movies & TV \u001b[0m\n",
              "\u001b[31mAthletes Artists Power & Politics Business Scholars & Educators Scientists Activists Notorious Figures BIO Buys \u001b[0m\n",
              "\u001b[31mNewsletter Your Privacy Choices Privacy Notice Terms Of Use Skip to Content History\u001b[0m\n",
              "\n",
              "\u001b[31mTitle: Franz Liszt - World History Encyclopedia\u001b[0m\n",
              "\u001b[31mLink: \u001b[0m\u001b[4;31mhttps://www.worldhistory.org/Franz_Liszt/\u001b[0m\n",
              "\u001b[31mSummary: Just a moment\u001b[0m\u001b[31m...\u001b[0m\u001b[31m Enable JavaScript and cookies to continue\u001b[0m\n",
              "\n",
              "\u001b[31mTitle: Franz Liszt summary | Britannica\u001b[0m\n",
              "\u001b[31mLink: \u001b[0m\u001b[4;31mhttps://www.britannica.com/summary/Franz-Liszt\u001b[0m\n",
              "\u001b[31mSummary: Franz Liszt summary | Britannica Search Britannica Click here to search Search Britannica Click here to \u001b[0m\n",
              "\u001b[31msearch Login Subscribe Now Subscribe Home Games & Quizzes History & Society Science & Tech Biographies Animals & \u001b[0m\n",
              "\u001b[31mNature Geography & Travel Arts & Culture Money Videos On This Day One Good Fact Dic\u001b[0m\n",
              "\u001b[31m        \u001b[0m\n"
            ],
            "text/html": [
              "<pre style=\"white-space:pre;overflow-x:auto;line-height:normal;font-family:Menlo,'DejaVu Sans Mono',consolas,'Courier New',monospace\"><span style=\"color: #800000; text-decoration-color: #800000\">Agent: </span>\n",
              "<span style=\"color: #800000; text-decoration-color: #800000\">        BELOW ARE THE RESULTS FROM THE WEB SEARCH. USE THESE TO COMPOSE YOUR RESPONSE:</span>\n",
              "<span style=\"color: #800000; text-decoration-color: #800000\">        Title: Franz Liszt - Wikipedia</span>\n",
              "<span style=\"color: #800000; text-decoration-color: #800000\">Link: </span><span style=\"color: #800000; text-decoration-color: #800000; text-decoration: underline\">https://en.wikipedia.org/wiki/Franz_Liszt</span>\n",
              "<span style=\"color: #800000; text-decoration-color: #800000\">Summary: Franz Liszt - Wikipedia Jump to content Main menu Main menu move to sidebar hide Navigation Main page </span>\n",
              "<span style=\"color: #800000; text-decoration-color: #800000\">Contents Current events Random article About Wikipedia Contact us Donate Contribute Help Learn to edit Community </span>\n",
              "<span style=\"color: #800000; text-decoration-color: #800000\">portal Recent changes Upload file Search Search Create account Log in Personal tools </span>\n",
              "\n",
              "<span style=\"color: #800000; text-decoration-color: #800000\">Title: Franz Liszt | Biography, Music, Compositions, Famous Works, Children ...</span>\n",
              "<span style=\"color: #800000; text-decoration-color: #800000\">Link: </span><span style=\"color: #800000; text-decoration-color: #800000; text-decoration: underline\">https://www.britannica.com/biography/Franz-Liszt</span>\n",
              "<span style=\"color: #800000; text-decoration-color: #800000\">Summary: Franz Liszt | Biography, Music, Compositions, Famous Works, Children, &amp; Facts | Britannica Search </span>\n",
              "<span style=\"color: #800000; text-decoration-color: #800000\">Britannica Click here to search Search Britannica Click here to search Login Subscribe Now Subscribe Home Games &amp; </span>\n",
              "<span style=\"color: #800000; text-decoration-color: #800000\">Quizzes History &amp; Society Science &amp; Tech Biographies Animals &amp; Nature Geography &amp; Travel</span>\n",
              "\n",
              "<span style=\"color: #800000; text-decoration-color: #800000\">Title: Franz Liszt - Compositions, Facts &amp; Death - Biography</span>\n",
              "<span style=\"color: #800000; text-decoration-color: #800000\">Link: </span><span style=\"color: #800000; text-decoration-color: #800000; text-decoration: underline\">https://www.biography.com/musicians/franz-liszt</span>\n",
              "<span style=\"color: #800000; text-decoration-color: #800000\">Summary: Franz Liszt - Compositions, Facts &amp; Death Search Women’s History History &amp; Culture Musicians Movies &amp; TV </span>\n",
              "<span style=\"color: #800000; text-decoration-color: #800000\">Athletes Artists Power &amp; Politics Business Scholars &amp; Educators Scientists Activists Notorious Figures BIO Buys </span>\n",
              "<span style=\"color: #800000; text-decoration-color: #800000\">Newsletter Your Privacy Choices Privacy Notice Terms Of Use Skip to Content History</span>\n",
              "\n",
              "<span style=\"color: #800000; text-decoration-color: #800000\">Title: Franz Liszt - World History Encyclopedia</span>\n",
              "<span style=\"color: #800000; text-decoration-color: #800000\">Link: </span><span style=\"color: #800000; text-decoration-color: #800000; text-decoration: underline\">https://www.worldhistory.org/Franz_Liszt/</span>\n",
              "<span style=\"color: #800000; text-decoration-color: #800000\">Summary: Just a moment... Enable JavaScript and cookies to continue</span>\n",
              "\n",
              "<span style=\"color: #800000; text-decoration-color: #800000\">Title: Franz Liszt summary | Britannica</span>\n",
              "<span style=\"color: #800000; text-decoration-color: #800000\">Link: </span><span style=\"color: #800000; text-decoration-color: #800000; text-decoration: underline\">https://www.britannica.com/summary/Franz-Liszt</span>\n",
              "<span style=\"color: #800000; text-decoration-color: #800000\">Summary: Franz Liszt summary | Britannica Search Britannica Click here to search Search Britannica Click here to </span>\n",
              "<span style=\"color: #800000; text-decoration-color: #800000\">search Login Subscribe Now Subscribe Home Games &amp; Quizzes History &amp; Society Science &amp; Tech Biographies Animals &amp; </span>\n",
              "<span style=\"color: #800000; text-decoration-color: #800000\">Nature Geography &amp; Travel Arts &amp; Culture Money Videos On This Day One Good Fact Dic</span>\n",
              "<span style=\"color: #800000; text-decoration-color: #800000\">        </span>\n",
              "</pre>\n"
            ]
          },
          "metadata": {}
        },
        {
          "output_type": "display_data",
          "data": {
            "text/plain": [
              "\u001b[32m...\u001b[0m\u001b[32m|\u001b[0m"
            ],
            "text/html": [
              "<pre style=\"white-space:pre;overflow-x:auto;line-height:normal;font-family:Menlo,'DejaVu Sans Mono',consolas,'Courier New',monospace\"><span style=\"color: #008000; text-decoration-color: #008000\">...|</span></pre>\n"
            ]
          },
          "metadata": {}
        },
        {
          "output_type": "stream",
          "name": "stdout",
          "text": [
            "\u001b[32m\u001b[32mDONE\u001b[32m Franz\u001b[32m Lis\u001b[32mzt\u001b[32m was\u001b[32m born\u001b[32m on\u001b[32m October\u001b[32m \u001b[32m22\u001b[32m,\u001b[32m \u001b[32m181\u001b[32m1\u001b[32m."
          ]
        },
        {
          "output_type": "display_data",
          "data": {
            "text/plain": [
              "\n"
            ],
            "text/html": [
              "<pre style=\"white-space:pre;overflow-x:auto;line-height:normal;font-family:Menlo,'DejaVu Sans Mono',consolas,'Courier New',monospace\">\n",
              "</pre>\n"
            ]
          },
          "metadata": {}
        },
        {
          "output_type": "display_data",
          "data": {
            "text/plain": [
              "\u001b[33m...\u001b[0m|\u001b[1mStats:\u001b[0m \u001b[35mN_MSG\u001b[0m\u001b[35m=\u001b[0m\u001b[1;35m4\u001b[0m\u001b[35m, TOKENS: \u001b[0m\u001b[35min\u001b[0m\u001b[35m=\u001b[0m\u001b[1;35m855\u001b[0m\u001b[35m, \u001b[0m\u001b[35mout\u001b[0m\u001b[35m=\u001b[0m\u001b[1;35m15\u001b[0m\u001b[35m, \u001b[0m\u001b[35mmax\u001b[0m\u001b[35m=\u001b[0m\u001b[1;35m200\u001b[0m\u001b[35m, \u001b[0m\u001b[35mctx\u001b[0m\u001b[35m=\u001b[0m\u001b[1;35m8192\u001b[0m\u001b[35m, COST: \u001b[0m\u001b[35mnow\u001b[0m\u001b[35m=$\u001b[0m\u001b[1;35m0.0000\u001b[0m\u001b[35m, \u001b[0m\u001b[35mcumul\u001b[0m\u001b[35m=$\u001b[0m\u001b[1;35m0.0000\u001b[0m\u001b[35m \u001b[0m\u001b[1;35m(\u001b[0m\u001b[1;35mllama3-70b-\u001b[0m\u001b[1;35m8192\u001b[0m\u001b[1;35m)\u001b[0m\n"
            ],
            "text/html": [
              "<pre style=\"white-space:pre;overflow-x:auto;line-height:normal;font-family:Menlo,'DejaVu Sans Mono',consolas,'Courier New',monospace\"><span style=\"color: #808000; text-decoration-color: #808000\">...</span>|<span style=\"font-weight: bold\">Stats:</span> <span style=\"color: #800080; text-decoration-color: #800080\">N_MSG</span><span style=\"color: #800080; text-decoration-color: #800080\">=</span><span style=\"color: #800080; text-decoration-color: #800080; font-weight: bold\">4</span><span style=\"color: #800080; text-decoration-color: #800080\">, TOKENS: </span><span style=\"color: #800080; text-decoration-color: #800080\">in</span><span style=\"color: #800080; text-decoration-color: #800080\">=</span><span style=\"color: #800080; text-decoration-color: #800080; font-weight: bold\">855</span><span style=\"color: #800080; text-decoration-color: #800080\">, </span><span style=\"color: #800080; text-decoration-color: #800080\">out</span><span style=\"color: #800080; text-decoration-color: #800080\">=</span><span style=\"color: #800080; text-decoration-color: #800080; font-weight: bold\">15</span><span style=\"color: #800080; text-decoration-color: #800080\">, </span><span style=\"color: #800080; text-decoration-color: #800080\">max</span><span style=\"color: #800080; text-decoration-color: #800080\">=</span><span style=\"color: #800080; text-decoration-color: #800080; font-weight: bold\">200</span><span style=\"color: #800080; text-decoration-color: #800080\">, </span><span style=\"color: #800080; text-decoration-color: #800080\">ctx</span><span style=\"color: #800080; text-decoration-color: #800080\">=</span><span style=\"color: #800080; text-decoration-color: #800080; font-weight: bold\">8192</span><span style=\"color: #800080; text-decoration-color: #800080\">, COST: </span><span style=\"color: #800080; text-decoration-color: #800080\">now</span><span style=\"color: #800080; text-decoration-color: #800080\">=$</span><span style=\"color: #800080; text-decoration-color: #800080; font-weight: bold\">0.0000</span><span style=\"color: #800080; text-decoration-color: #800080\">, </span><span style=\"color: #800080; text-decoration-color: #800080\">cumul</span><span style=\"color: #800080; text-decoration-color: #800080\">=$</span><span style=\"color: #800080; text-decoration-color: #800080; font-weight: bold\">0.0000</span><span style=\"color: #800080; text-decoration-color: #800080\"> </span><span style=\"color: #800080; text-decoration-color: #800080; font-weight: bold\">(llama3-70b-</span><span style=\"color: #800080; text-decoration-color: #800080; font-weight: bold\">8192</span><span style=\"color: #800080; text-decoration-color: #800080; font-weight: bold\">)</span>\n",
              "</pre>\n"
            ]
          },
          "metadata": {}
        },
        {
          "output_type": "display_data",
          "data": {
            "text/plain": [
              "\u001b[1;35m...\u001b[0m\u001b[1;35m|<<< Finished Agent Searcher \u001b[0m\u001b[1;35m(\u001b[0m\u001b[1;35m5\u001b[0m\u001b[1;35m)\u001b[0m\u001b[1;35m \u001b[0m\n"
            ],
            "text/html": [
              "<pre style=\"white-space:pre;overflow-x:auto;line-height:normal;font-family:Menlo,'DejaVu Sans Mono',consolas,'Courier New',monospace\"><span style=\"color: #800080; text-decoration-color: #800080; font-weight: bold\">...|&lt;&lt;&lt; Finished Agent Searcher (</span><span style=\"color: #800080; text-decoration-color: #800080; font-weight: bold\">5</span><span style=\"color: #800080; text-decoration-color: #800080; font-weight: bold\">) </span>\n",
              "</pre>\n"
            ]
          },
          "metadata": {}
        },
        {
          "output_type": "display_data",
          "data": {
            "text/plain": [],
            "text/html": [
              "<pre style=\"white-space:pre;overflow-x:auto;line-height:normal;font-family:Menlo,'DejaVu Sans Mono',consolas,'Courier New',monospace\"></pre>\n"
            ]
          },
          "metadata": {}
        },
        {
          "output_type": "stream",
          "name": "stdout",
          "text": [
            "\u001b[32m\u001b[32mNow\u001b[32m that\u001b[32m we\u001b[32m have\u001b[32m Lis\u001b[32mzt\u001b[32m's\u001b[32m birth\u001b[32mdate\u001b[32m,\u001b[32m let\u001b[32m's\u001b[32m move\u001b[32m on\u001b[32m to\u001b[32m Wagner\u001b[32m's\u001b[32m birth\u001b[32mdate\u001b[32m.\n",
            "\n",
            "\u001b[32mHere\u001b[32m's\u001b[32m my\u001b[32m next\u001b[32m question\u001b[32m:\n",
            "\n",
            "\u001b[32mWhen\u001b[32m was\u001b[32m Richard\u001b[32m Wagner\u001b[32m born\u001b[32m?"
          ]
        },
        {
          "output_type": "display_data",
          "data": {
            "text/plain": [
              "\n"
            ],
            "text/html": [
              "<pre style=\"white-space:pre;overflow-x:auto;line-height:normal;font-family:Menlo,'DejaVu Sans Mono',consolas,'Courier New',monospace\">\n",
              "</pre>\n"
            ]
          },
          "metadata": {}
        },
        {
          "output_type": "display_data",
          "data": {
            "text/plain": [
              "\u001b[1mStats:\u001b[0m \u001b[35mN_MSG\u001b[0m\u001b[35m=\u001b[0m\u001b[1;35m4\u001b[0m\u001b[35m, TOKENS: \u001b[0m\u001b[35min\u001b[0m\u001b[35m=\u001b[0m\u001b[1;35m145\u001b[0m\u001b[35m, \u001b[0m\u001b[35mout\u001b[0m\u001b[35m=\u001b[0m\u001b[1;35m32\u001b[0m\u001b[35m, \u001b[0m\u001b[35mmax\u001b[0m\u001b[35m=\u001b[0m\u001b[1;35m200\u001b[0m\u001b[35m, \u001b[0m\u001b[35mctx\u001b[0m\u001b[35m=\u001b[0m\u001b[1;35m8192\u001b[0m\u001b[35m, COST: \u001b[0m\u001b[35mnow\u001b[0m\u001b[35m=$\u001b[0m\u001b[1;35m0.0000\u001b[0m\u001b[35m, \u001b[0m\u001b[35mcumul\u001b[0m\u001b[35m=$\u001b[0m\u001b[1;35m0.0000\u001b[0m\u001b[35m \u001b[0m\u001b[1;35m(\u001b[0m\u001b[1;35mllama3-70b-\u001b[0m\u001b[1;35m8192\u001b[0m\u001b[1;35m)\u001b[0m\n"
            ],
            "text/html": [
              "<pre style=\"white-space:pre;overflow-x:auto;line-height:normal;font-family:Menlo,'DejaVu Sans Mono',consolas,'Courier New',monospace\"><span style=\"font-weight: bold\">Stats:</span> <span style=\"color: #800080; text-decoration-color: #800080\">N_MSG</span><span style=\"color: #800080; text-decoration-color: #800080\">=</span><span style=\"color: #800080; text-decoration-color: #800080; font-weight: bold\">4</span><span style=\"color: #800080; text-decoration-color: #800080\">, TOKENS: </span><span style=\"color: #800080; text-decoration-color: #800080\">in</span><span style=\"color: #800080; text-decoration-color: #800080\">=</span><span style=\"color: #800080; text-decoration-color: #800080; font-weight: bold\">145</span><span style=\"color: #800080; text-decoration-color: #800080\">, </span><span style=\"color: #800080; text-decoration-color: #800080\">out</span><span style=\"color: #800080; text-decoration-color: #800080\">=</span><span style=\"color: #800080; text-decoration-color: #800080; font-weight: bold\">32</span><span style=\"color: #800080; text-decoration-color: #800080\">, </span><span style=\"color: #800080; text-decoration-color: #800080\">max</span><span style=\"color: #800080; text-decoration-color: #800080\">=</span><span style=\"color: #800080; text-decoration-color: #800080; font-weight: bold\">200</span><span style=\"color: #800080; text-decoration-color: #800080\">, </span><span style=\"color: #800080; text-decoration-color: #800080\">ctx</span><span style=\"color: #800080; text-decoration-color: #800080\">=</span><span style=\"color: #800080; text-decoration-color: #800080; font-weight: bold\">8192</span><span style=\"color: #800080; text-decoration-color: #800080\">, COST: </span><span style=\"color: #800080; text-decoration-color: #800080\">now</span><span style=\"color: #800080; text-decoration-color: #800080\">=$</span><span style=\"color: #800080; text-decoration-color: #800080; font-weight: bold\">0.0000</span><span style=\"color: #800080; text-decoration-color: #800080\">, </span><span style=\"color: #800080; text-decoration-color: #800080\">cumul</span><span style=\"color: #800080; text-decoration-color: #800080\">=$</span><span style=\"color: #800080; text-decoration-color: #800080; font-weight: bold\">0.0000</span><span style=\"color: #800080; text-decoration-color: #800080\"> </span><span style=\"color: #800080; text-decoration-color: #800080; font-weight: bold\">(llama3-70b-</span><span style=\"color: #800080; text-decoration-color: #800080; font-weight: bold\">8192</span><span style=\"color: #800080; text-decoration-color: #800080; font-weight: bold\">)</span>\n",
              "</pre>\n"
            ]
          },
          "metadata": {}
        },
        {
          "output_type": "display_data",
          "data": {
            "text/plain": [
              "\u001b[1;35m...\u001b[0m\u001b[1;35m|>>> Starting Agent Searcher \u001b[0m\u001b[1;35m(\u001b[0m\u001b[1;35m5\u001b[0m\u001b[1;35m)\u001b[0m\u001b[1;35m groq/llama3-70b-\u001b[0m\u001b[1;35m8192\u001b[0m\u001b[1;35m \u001b[0m\n"
            ],
            "text/html": [
              "<pre style=\"white-space:pre;overflow-x:auto;line-height:normal;font-family:Menlo,'DejaVu Sans Mono',consolas,'Courier New',monospace\"><span style=\"color: #800080; text-decoration-color: #800080; font-weight: bold\">...|&gt;&gt;&gt; Starting Agent Searcher (</span><span style=\"color: #800080; text-decoration-color: #800080; font-weight: bold\">5</span><span style=\"color: #800080; text-decoration-color: #800080; font-weight: bold\">) groq/llama3-70b-</span><span style=\"color: #800080; text-decoration-color: #800080; font-weight: bold\">8192</span><span style=\"color: #800080; text-decoration-color: #800080; font-weight: bold\"> </span>\n",
              "</pre>\n"
            ]
          },
          "metadata": {}
        },
        {
          "output_type": "display_data",
          "data": {
            "text/plain": [
              "\u001b[32m...\u001b[0m\u001b[32m|\u001b[0m"
            ],
            "text/html": [
              "<pre style=\"white-space:pre;overflow-x:auto;line-height:normal;font-family:Menlo,'DejaVu Sans Mono',consolas,'Courier New',monospace\"><span style=\"color: #008000; text-decoration-color: #008000\">...|</span></pre>\n"
            ]
          },
          "metadata": {}
        },
        {
          "output_type": "stream",
          "name": "stdout",
          "text": [
            "\u001b[32m\u001b[32mTO\u001b[32mOL\u001b[32m:\u001b[32m {\n",
            "\u001b[32m\"\u001b[32mrequest\u001b[32m\":\u001b[32m \"\u001b[32mduck\u001b[32mduck\u001b[32mgo\u001b[32m_search\u001b[32m\",\n",
            "\u001b[32m\"\u001b[32mquery\u001b[32m\":\u001b[32m \"\u001b[32mWhen\u001b[32m was\u001b[32m Richard\u001b[32m Wagner\u001b[32m born\u001b[32m?\",\n",
            "\u001b[32m\"\u001b[32mnum\u001b[32m_results\u001b[32m\":\u001b[32m \u001b[32m5\u001b[32m\n",
            "\u001b[32m}"
          ]
        },
        {
          "output_type": "display_data",
          "data": {
            "text/plain": [
              "\n"
            ],
            "text/html": [
              "<pre style=\"white-space:pre;overflow-x:auto;line-height:normal;font-family:Menlo,'DejaVu Sans Mono',consolas,'Courier New',monospace\">\n",
              "</pre>\n"
            ]
          },
          "metadata": {}
        },
        {
          "output_type": "display_data",
          "data": {
            "text/plain": [
              "\u001b[33m...\u001b[0m|\u001b[1mStats:\u001b[0m \u001b[35mN_MSG\u001b[0m\u001b[35m=\u001b[0m\u001b[1;35m6\u001b[0m\u001b[35m, TOKENS: \u001b[0m\u001b[35min\u001b[0m\u001b[35m=\u001b[0m\u001b[1;35m902\u001b[0m\u001b[35m, \u001b[0m\u001b[35mout\u001b[0m\u001b[35m=\u001b[0m\u001b[1;35m31\u001b[0m\u001b[35m, \u001b[0m\u001b[35mmax\u001b[0m\u001b[35m=\u001b[0m\u001b[1;35m200\u001b[0m\u001b[35m, \u001b[0m\u001b[35mctx\u001b[0m\u001b[35m=\u001b[0m\u001b[1;35m8192\u001b[0m\u001b[35m, COST: \u001b[0m\u001b[35mnow\u001b[0m\u001b[35m=$\u001b[0m\u001b[1;35m0.0000\u001b[0m\u001b[35m, \u001b[0m\u001b[35mcumul\u001b[0m\u001b[35m=$\u001b[0m\u001b[1;35m0.0000\u001b[0m\u001b[35m \u001b[0m\u001b[1;35m(\u001b[0m\u001b[1;35mllama3-70b-\u001b[0m\u001b[1;35m8192\u001b[0m\u001b[1;35m)\u001b[0m\n"
            ],
            "text/html": [
              "<pre style=\"white-space:pre;overflow-x:auto;line-height:normal;font-family:Menlo,'DejaVu Sans Mono',consolas,'Courier New',monospace\"><span style=\"color: #808000; text-decoration-color: #808000\">...</span>|<span style=\"font-weight: bold\">Stats:</span> <span style=\"color: #800080; text-decoration-color: #800080\">N_MSG</span><span style=\"color: #800080; text-decoration-color: #800080\">=</span><span style=\"color: #800080; text-decoration-color: #800080; font-weight: bold\">6</span><span style=\"color: #800080; text-decoration-color: #800080\">, TOKENS: </span><span style=\"color: #800080; text-decoration-color: #800080\">in</span><span style=\"color: #800080; text-decoration-color: #800080\">=</span><span style=\"color: #800080; text-decoration-color: #800080; font-weight: bold\">902</span><span style=\"color: #800080; text-decoration-color: #800080\">, </span><span style=\"color: #800080; text-decoration-color: #800080\">out</span><span style=\"color: #800080; text-decoration-color: #800080\">=</span><span style=\"color: #800080; text-decoration-color: #800080; font-weight: bold\">31</span><span style=\"color: #800080; text-decoration-color: #800080\">, </span><span style=\"color: #800080; text-decoration-color: #800080\">max</span><span style=\"color: #800080; text-decoration-color: #800080\">=</span><span style=\"color: #800080; text-decoration-color: #800080; font-weight: bold\">200</span><span style=\"color: #800080; text-decoration-color: #800080\">, </span><span style=\"color: #800080; text-decoration-color: #800080\">ctx</span><span style=\"color: #800080; text-decoration-color: #800080\">=</span><span style=\"color: #800080; text-decoration-color: #800080; font-weight: bold\">8192</span><span style=\"color: #800080; text-decoration-color: #800080\">, COST: </span><span style=\"color: #800080; text-decoration-color: #800080\">now</span><span style=\"color: #800080; text-decoration-color: #800080\">=$</span><span style=\"color: #800080; text-decoration-color: #800080; font-weight: bold\">0.0000</span><span style=\"color: #800080; text-decoration-color: #800080\">, </span><span style=\"color: #800080; text-decoration-color: #800080\">cumul</span><span style=\"color: #800080; text-decoration-color: #800080\">=$</span><span style=\"color: #800080; text-decoration-color: #800080; font-weight: bold\">0.0000</span><span style=\"color: #800080; text-decoration-color: #800080\"> </span><span style=\"color: #800080; text-decoration-color: #800080; font-weight: bold\">(llama3-70b-</span><span style=\"color: #800080; text-decoration-color: #800080; font-weight: bold\">8192</span><span style=\"color: #800080; text-decoration-color: #800080; font-weight: bold\">)</span>\n",
              "</pre>\n"
            ]
          },
          "metadata": {}
        },
        {
          "output_type": "display_data",
          "data": {
            "text/plain": [
              "\u001b[31m...\u001b[0m\u001b[31m|\u001b[0m"
            ],
            "text/html": [
              "<pre style=\"white-space:pre;overflow-x:auto;line-height:normal;font-family:Menlo,'DejaVu Sans Mono',consolas,'Courier New',monospace\"><span style=\"color: #800000; text-decoration-color: #800000\">...|</span></pre>\n"
            ]
          },
          "metadata": {}
        },
        {
          "output_type": "display_data",
          "data": {
            "text/plain": [
              "\u001b[31mAgent: \u001b[0m\n",
              "\u001b[31m        BELOW ARE THE RESULTS FROM THE WEB SEARCH. USE THESE TO COMPOSE YOUR RESPONSE:\u001b[0m\n",
              "\u001b[31m        Title: Richard Wagner - Wikipedia\u001b[0m\n",
              "\u001b[31mLink: \u001b[0m\u001b[4;31mhttps://en.wikipedia.org/wiki/Richard_Wagner\u001b[0m\n",
              "\u001b[31mSummary: Richard Wagner - Wikipedia Jump to content Main menu Main menu move to sidebar hide Navigation Main page \u001b[0m\n",
              "\u001b[31mContents Current events Random article About Wikipedia Contact us Donate Contribute Help Learn to edit Community \u001b[0m\n",
              "\u001b[31mportal Recent changes Upload file Search Search Create account Log in Personal too\u001b[0m\n",
              "\n",
              "\u001b[31mTitle: Richard Wagner | Biography, Music, Compositions, Operas, & Facts\u001b[0m\n",
              "\u001b[31mLink: \u001b[0m\u001b[4;31mhttps://www.britannica.com/biography/Richard-Wagner-German-composer\u001b[0m\n",
              "\u001b[31mSummary: Richard Wagner | Biography, Music, Compositions, Operas, & Facts | Britannica Search Britannica Click here\u001b[0m\n",
              "\u001b[31mto search Search Britannica Click here to search Login Subscribe Now Subscribe Home Games & Quizzes History & \u001b[0m\n",
              "\u001b[31mSociety Science & Tech Biographies Animals & Nature Geography & Travel Arts & Cultu\u001b[0m\n",
              "\n",
              "\u001b[31mTitle: Richard Wagner: Biography, Composer, Anti-Semitic Writings\u001b[0m\n",
              "\u001b[31mLink: \u001b[0m\u001b[4;31mhttps://www.biography.com/musicians/richard-wagner\u001b[0m\n",
              "\u001b[31mSummary: Richard Wagner: Biography, Composer, Anti-Semitic Writings Search Women’s History History & Culture \u001b[0m\n",
              "\u001b[31mMusicians Movies & TV Athletes Artists Power & Politics Business Scholars & Educators Scientists Activists \u001b[0m\n",
              "\u001b[31mNotorious Figures BIO Buys Newsletter Your Privacy Choices Privacy Notice Terms Of Use Skip t\u001b[0m\n",
              "\n",
              "\u001b[31mTitle: Richard Wagner - World History Encyclopedia\u001b[0m\n",
              "\u001b[31mLink: \u001b[0m\u001b[4;31mhttps://www.worldhistory.org/Richard_Wagner/\u001b[0m\n",
              "\u001b[31mSummary: Just a moment\u001b[0m\u001b[31m...\u001b[0m\u001b[31m Enable JavaScript and cookies to continue\u001b[0m\n",
              "\n",
              "\u001b[31mTitle: Richard Wagner \u001b[0m\u001b[1;31m(\u001b[0m\u001b[1;31m1813\u001b[0m\u001b[31m-\u001b[0m\u001b[1;31m1883\u001b[0m\u001b[1;31m)\u001b[0m\u001b[31m | Composer | Biography, music and facts\u001b[0m\n",
              "\u001b[31mLink: \u001b[0m\u001b[4;31mhttps://www.classicfm.com/composers/wagner/\u001b[0m\n",
              "\u001b[31mSummary: Richard Wagner \u001b[0m\u001b[1;31m(\u001b[0m\u001b[1;31m1813\u001b[0m\u001b[31m–\u001b[0m\u001b[1;31m1883\u001b[0m\u001b[1;31m)\u001b[0m\u001b[31m | Composer | Biography, music and facts Skip to content skip to navigation \u001b[0m\n",
              "\u001b[31mClassic FM Listen On Air Now Alexander Armstrong 10am - 1pm Now Playing Symphony No.\u001b[0m\u001b[1;31m8\u001b[0m\u001b[31m in F major Opus \u001b[0m\u001b[1;31m93\u001b[0m\u001b[31m \u001b[0m\u001b[1;31m(\u001b[0m\u001b[1;31m1\u001b[0m\u001b[1;31m)\u001b[0m\u001b[31m Ludwig\u001b[0m\n",
              "\u001b[31mVan Beethoven Playlist Schedule Home Radio News Discover Music Composers Artists W\u001b[0m\n",
              "\u001b[31m        \u001b[0m\n"
            ],
            "text/html": [
              "<pre style=\"white-space:pre;overflow-x:auto;line-height:normal;font-family:Menlo,'DejaVu Sans Mono',consolas,'Courier New',monospace\"><span style=\"color: #800000; text-decoration-color: #800000\">Agent: </span>\n",
              "<span style=\"color: #800000; text-decoration-color: #800000\">        BELOW ARE THE RESULTS FROM THE WEB SEARCH. USE THESE TO COMPOSE YOUR RESPONSE:</span>\n",
              "<span style=\"color: #800000; text-decoration-color: #800000\">        Title: Richard Wagner - Wikipedia</span>\n",
              "<span style=\"color: #800000; text-decoration-color: #800000\">Link: </span><span style=\"color: #800000; text-decoration-color: #800000; text-decoration: underline\">https://en.wikipedia.org/wiki/Richard_Wagner</span>\n",
              "<span style=\"color: #800000; text-decoration-color: #800000\">Summary: Richard Wagner - Wikipedia Jump to content Main menu Main menu move to sidebar hide Navigation Main page </span>\n",
              "<span style=\"color: #800000; text-decoration-color: #800000\">Contents Current events Random article About Wikipedia Contact us Donate Contribute Help Learn to edit Community </span>\n",
              "<span style=\"color: #800000; text-decoration-color: #800000\">portal Recent changes Upload file Search Search Create account Log in Personal too</span>\n",
              "\n",
              "<span style=\"color: #800000; text-decoration-color: #800000\">Title: Richard Wagner | Biography, Music, Compositions, Operas, &amp; Facts</span>\n",
              "<span style=\"color: #800000; text-decoration-color: #800000\">Link: </span><span style=\"color: #800000; text-decoration-color: #800000; text-decoration: underline\">https://www.britannica.com/biography/Richard-Wagner-German-composer</span>\n",
              "<span style=\"color: #800000; text-decoration-color: #800000\">Summary: Richard Wagner | Biography, Music, Compositions, Operas, &amp; Facts | Britannica Search Britannica Click here</span>\n",
              "<span style=\"color: #800000; text-decoration-color: #800000\">to search Search Britannica Click here to search Login Subscribe Now Subscribe Home Games &amp; Quizzes History &amp; </span>\n",
              "<span style=\"color: #800000; text-decoration-color: #800000\">Society Science &amp; Tech Biographies Animals &amp; Nature Geography &amp; Travel Arts &amp; Cultu</span>\n",
              "\n",
              "<span style=\"color: #800000; text-decoration-color: #800000\">Title: Richard Wagner: Biography, Composer, Anti-Semitic Writings</span>\n",
              "<span style=\"color: #800000; text-decoration-color: #800000\">Link: </span><span style=\"color: #800000; text-decoration-color: #800000; text-decoration: underline\">https://www.biography.com/musicians/richard-wagner</span>\n",
              "<span style=\"color: #800000; text-decoration-color: #800000\">Summary: Richard Wagner: Biography, Composer, Anti-Semitic Writings Search Women’s History History &amp; Culture </span>\n",
              "<span style=\"color: #800000; text-decoration-color: #800000\">Musicians Movies &amp; TV Athletes Artists Power &amp; Politics Business Scholars &amp; Educators Scientists Activists </span>\n",
              "<span style=\"color: #800000; text-decoration-color: #800000\">Notorious Figures BIO Buys Newsletter Your Privacy Choices Privacy Notice Terms Of Use Skip t</span>\n",
              "\n",
              "<span style=\"color: #800000; text-decoration-color: #800000\">Title: Richard Wagner - World History Encyclopedia</span>\n",
              "<span style=\"color: #800000; text-decoration-color: #800000\">Link: </span><span style=\"color: #800000; text-decoration-color: #800000; text-decoration: underline\">https://www.worldhistory.org/Richard_Wagner/</span>\n",
              "<span style=\"color: #800000; text-decoration-color: #800000\">Summary: Just a moment... Enable JavaScript and cookies to continue</span>\n",
              "\n",
              "<span style=\"color: #800000; text-decoration-color: #800000\">Title: Richard Wagner </span><span style=\"color: #800000; text-decoration-color: #800000; font-weight: bold\">(</span><span style=\"color: #800000; text-decoration-color: #800000; font-weight: bold\">1813</span><span style=\"color: #800000; text-decoration-color: #800000\">-</span><span style=\"color: #800000; text-decoration-color: #800000; font-weight: bold\">1883</span><span style=\"color: #800000; text-decoration-color: #800000; font-weight: bold\">)</span><span style=\"color: #800000; text-decoration-color: #800000\"> | Composer | Biography, music and facts</span>\n",
              "<span style=\"color: #800000; text-decoration-color: #800000\">Link: </span><span style=\"color: #800000; text-decoration-color: #800000; text-decoration: underline\">https://www.classicfm.com/composers/wagner/</span>\n",
              "<span style=\"color: #800000; text-decoration-color: #800000\">Summary: Richard Wagner </span><span style=\"color: #800000; text-decoration-color: #800000; font-weight: bold\">(</span><span style=\"color: #800000; text-decoration-color: #800000; font-weight: bold\">1813</span><span style=\"color: #800000; text-decoration-color: #800000\">–</span><span style=\"color: #800000; text-decoration-color: #800000; font-weight: bold\">1883</span><span style=\"color: #800000; text-decoration-color: #800000; font-weight: bold\">)</span><span style=\"color: #800000; text-decoration-color: #800000\"> | Composer | Biography, music and facts Skip to content skip to navigation </span>\n",
              "<span style=\"color: #800000; text-decoration-color: #800000\">Classic FM Listen On Air Now Alexander Armstrong 10am - 1pm Now Playing Symphony No.</span><span style=\"color: #800000; text-decoration-color: #800000; font-weight: bold\">8</span><span style=\"color: #800000; text-decoration-color: #800000\"> in F major Opus </span><span style=\"color: #800000; text-decoration-color: #800000; font-weight: bold\">93</span><span style=\"color: #800000; text-decoration-color: #800000\"> </span><span style=\"color: #800000; text-decoration-color: #800000; font-weight: bold\">(</span><span style=\"color: #800000; text-decoration-color: #800000; font-weight: bold\">1</span><span style=\"color: #800000; text-decoration-color: #800000; font-weight: bold\">)</span><span style=\"color: #800000; text-decoration-color: #800000\"> Ludwig</span>\n",
              "<span style=\"color: #800000; text-decoration-color: #800000\">Van Beethoven Playlist Schedule Home Radio News Discover Music Composers Artists W</span>\n",
              "<span style=\"color: #800000; text-decoration-color: #800000\">        </span>\n",
              "</pre>\n"
            ]
          },
          "metadata": {}
        },
        {
          "output_type": "display_data",
          "data": {
            "text/plain": [
              "\u001b[32m...\u001b[0m\u001b[32m|\u001b[0m"
            ],
            "text/html": [
              "<pre style=\"white-space:pre;overflow-x:auto;line-height:normal;font-family:Menlo,'DejaVu Sans Mono',consolas,'Courier New',monospace\"><span style=\"color: #008000; text-decoration-color: #008000\">...|</span></pre>\n"
            ]
          },
          "metadata": {}
        },
        {
          "output_type": "stream",
          "name": "stdout",
          "text": [
            "\u001b[32m\u001b[32mDONE\u001b[32m Richard\u001b[32m Wagner\u001b[32m was\u001b[32m born\u001b[32m on\u001b[32m May\u001b[32m \u001b[32m22\u001b[32m,\u001b[32m \u001b[32m181\u001b[32m3\u001b[32m."
          ]
        },
        {
          "output_type": "display_data",
          "data": {
            "text/plain": [
              "\n"
            ],
            "text/html": [
              "<pre style=\"white-space:pre;overflow-x:auto;line-height:normal;font-family:Menlo,'DejaVu Sans Mono',consolas,'Courier New',monospace\">\n",
              "</pre>\n"
            ]
          },
          "metadata": {}
        },
        {
          "output_type": "display_data",
          "data": {
            "text/plain": [
              "\u001b[33m...\u001b[0m|\u001b[1mStats:\u001b[0m \u001b[35mN_MSG\u001b[0m\u001b[35m=\u001b[0m\u001b[1;35m8\u001b[0m\u001b[35m, TOKENS: \u001b[0m\u001b[35min\u001b[0m\u001b[35m=\u001b[0m\u001b[1;35m1363\u001b[0m\u001b[35m, \u001b[0m\u001b[35mout\u001b[0m\u001b[35m=\u001b[0m\u001b[1;35m14\u001b[0m\u001b[35m, \u001b[0m\u001b[35mmax\u001b[0m\u001b[35m=\u001b[0m\u001b[1;35m200\u001b[0m\u001b[35m, \u001b[0m\u001b[35mctx\u001b[0m\u001b[35m=\u001b[0m\u001b[1;35m8192\u001b[0m\u001b[35m, COST: \u001b[0m\u001b[35mnow\u001b[0m\u001b[35m=$\u001b[0m\u001b[1;35m0.0000\u001b[0m\u001b[35m, \u001b[0m\u001b[35mcumul\u001b[0m\u001b[35m=$\u001b[0m\u001b[1;35m0.0000\u001b[0m\u001b[35m \u001b[0m\u001b[1;35m(\u001b[0m\u001b[1;35mllama3-70b-\u001b[0m\u001b[1;35m8192\u001b[0m\u001b[1;35m)\u001b[0m\n"
            ],
            "text/html": [
              "<pre style=\"white-space:pre;overflow-x:auto;line-height:normal;font-family:Menlo,'DejaVu Sans Mono',consolas,'Courier New',monospace\"><span style=\"color: #808000; text-decoration-color: #808000\">...</span>|<span style=\"font-weight: bold\">Stats:</span> <span style=\"color: #800080; text-decoration-color: #800080\">N_MSG</span><span style=\"color: #800080; text-decoration-color: #800080\">=</span><span style=\"color: #800080; text-decoration-color: #800080; font-weight: bold\">8</span><span style=\"color: #800080; text-decoration-color: #800080\">, TOKENS: </span><span style=\"color: #800080; text-decoration-color: #800080\">in</span><span style=\"color: #800080; text-decoration-color: #800080\">=</span><span style=\"color: #800080; text-decoration-color: #800080; font-weight: bold\">1363</span><span style=\"color: #800080; text-decoration-color: #800080\">, </span><span style=\"color: #800080; text-decoration-color: #800080\">out</span><span style=\"color: #800080; text-decoration-color: #800080\">=</span><span style=\"color: #800080; text-decoration-color: #800080; font-weight: bold\">14</span><span style=\"color: #800080; text-decoration-color: #800080\">, </span><span style=\"color: #800080; text-decoration-color: #800080\">max</span><span style=\"color: #800080; text-decoration-color: #800080\">=</span><span style=\"color: #800080; text-decoration-color: #800080; font-weight: bold\">200</span><span style=\"color: #800080; text-decoration-color: #800080\">, </span><span style=\"color: #800080; text-decoration-color: #800080\">ctx</span><span style=\"color: #800080; text-decoration-color: #800080\">=</span><span style=\"color: #800080; text-decoration-color: #800080; font-weight: bold\">8192</span><span style=\"color: #800080; text-decoration-color: #800080\">, COST: </span><span style=\"color: #800080; text-decoration-color: #800080\">now</span><span style=\"color: #800080; text-decoration-color: #800080\">=$</span><span style=\"color: #800080; text-decoration-color: #800080; font-weight: bold\">0.0000</span><span style=\"color: #800080; text-decoration-color: #800080\">, </span><span style=\"color: #800080; text-decoration-color: #800080\">cumul</span><span style=\"color: #800080; text-decoration-color: #800080\">=$</span><span style=\"color: #800080; text-decoration-color: #800080; font-weight: bold\">0.0000</span><span style=\"color: #800080; text-decoration-color: #800080\"> </span><span style=\"color: #800080; text-decoration-color: #800080; font-weight: bold\">(llama3-70b-</span><span style=\"color: #800080; text-decoration-color: #800080; font-weight: bold\">8192</span><span style=\"color: #800080; text-decoration-color: #800080; font-weight: bold\">)</span>\n",
              "</pre>\n"
            ]
          },
          "metadata": {}
        },
        {
          "output_type": "display_data",
          "data": {
            "text/plain": [
              "\u001b[1;35m...\u001b[0m\u001b[1;35m|<<< Finished Agent Searcher \u001b[0m\u001b[1;35m(\u001b[0m\u001b[1;35m9\u001b[0m\u001b[1;35m)\u001b[0m\u001b[1;35m \u001b[0m\n"
            ],
            "text/html": [
              "<pre style=\"white-space:pre;overflow-x:auto;line-height:normal;font-family:Menlo,'DejaVu Sans Mono',consolas,'Courier New',monospace\"><span style=\"color: #800080; text-decoration-color: #800080; font-weight: bold\">...|&lt;&lt;&lt; Finished Agent Searcher (</span><span style=\"color: #800080; text-decoration-color: #800080; font-weight: bold\">9</span><span style=\"color: #800080; text-decoration-color: #800080; font-weight: bold\">) </span>\n",
              "</pre>\n"
            ]
          },
          "metadata": {}
        },
        {
          "output_type": "display_data",
          "data": {
            "text/plain": [],
            "text/html": [
              "<pre style=\"white-space:pre;overflow-x:auto;line-height:normal;font-family:Menlo,'DejaVu Sans Mono',consolas,'Courier New',monospace\"></pre>\n"
            ]
          },
          "metadata": {}
        },
        {
          "output_type": "stream",
          "name": "stdout",
          "text": [
            "\u001b[32m\u001b[32mNow\u001b[32m that\u001b[32m we\u001b[32m have\u001b[32m both\u001b[32m birth\u001b[32mdates\u001b[32m,\u001b[32m I\u001b[32m can\u001b[32m answer\u001b[32m the\u001b[32m original\u001b[32m question\u001b[32m.\n",
            "\n",
            "\u001b[32mDONE\u001b[32m!\n",
            "\n",
            "\u001b[32mFran\u001b[32mz\u001b[32m Lis\u001b[32mzt\u001b[32m was\u001b[32m born\u001b[32m before\u001b[32m Richard\u001b[32m Wagner\u001b[32m."
          ]
        },
        {
          "output_type": "display_data",
          "data": {
            "text/plain": [
              "\n"
            ],
            "text/html": [
              "<pre style=\"white-space:pre;overflow-x:auto;line-height:normal;font-family:Menlo,'DejaVu Sans Mono',consolas,'Courier New',monospace\">\n",
              "</pre>\n"
            ]
          },
          "metadata": {}
        },
        {
          "output_type": "display_data",
          "data": {
            "text/plain": [
              "\u001b[1mStats:\u001b[0m \u001b[35mN_MSG\u001b[0m\u001b[35m=\u001b[0m\u001b[1;35m6\u001b[0m\u001b[35m, TOKENS: \u001b[0m\u001b[35min\u001b[0m\u001b[35m=\u001b[0m\u001b[1;35m190\u001b[0m\u001b[35m, \u001b[0m\u001b[35mout\u001b[0m\u001b[35m=\u001b[0m\u001b[1;35m27\u001b[0m\u001b[35m, \u001b[0m\u001b[35mmax\u001b[0m\u001b[35m=\u001b[0m\u001b[1;35m200\u001b[0m\u001b[35m, \u001b[0m\u001b[35mctx\u001b[0m\u001b[35m=\u001b[0m\u001b[1;35m8192\u001b[0m\u001b[35m, COST: \u001b[0m\u001b[35mnow\u001b[0m\u001b[35m=$\u001b[0m\u001b[1;35m0.0000\u001b[0m\u001b[35m, \u001b[0m\u001b[35mcumul\u001b[0m\u001b[35m=$\u001b[0m\u001b[1;35m0.0000\u001b[0m\u001b[35m \u001b[0m\u001b[1;35m(\u001b[0m\u001b[1;35mllama3-70b-\u001b[0m\u001b[1;35m8192\u001b[0m\u001b[1;35m)\u001b[0m\n"
            ],
            "text/html": [
              "<pre style=\"white-space:pre;overflow-x:auto;line-height:normal;font-family:Menlo,'DejaVu Sans Mono',consolas,'Courier New',monospace\"><span style=\"font-weight: bold\">Stats:</span> <span style=\"color: #800080; text-decoration-color: #800080\">N_MSG</span><span style=\"color: #800080; text-decoration-color: #800080\">=</span><span style=\"color: #800080; text-decoration-color: #800080; font-weight: bold\">6</span><span style=\"color: #800080; text-decoration-color: #800080\">, TOKENS: </span><span style=\"color: #800080; text-decoration-color: #800080\">in</span><span style=\"color: #800080; text-decoration-color: #800080\">=</span><span style=\"color: #800080; text-decoration-color: #800080; font-weight: bold\">190</span><span style=\"color: #800080; text-decoration-color: #800080\">, </span><span style=\"color: #800080; text-decoration-color: #800080\">out</span><span style=\"color: #800080; text-decoration-color: #800080\">=</span><span style=\"color: #800080; text-decoration-color: #800080; font-weight: bold\">27</span><span style=\"color: #800080; text-decoration-color: #800080\">, </span><span style=\"color: #800080; text-decoration-color: #800080\">max</span><span style=\"color: #800080; text-decoration-color: #800080\">=</span><span style=\"color: #800080; text-decoration-color: #800080; font-weight: bold\">200</span><span style=\"color: #800080; text-decoration-color: #800080\">, </span><span style=\"color: #800080; text-decoration-color: #800080\">ctx</span><span style=\"color: #800080; text-decoration-color: #800080\">=</span><span style=\"color: #800080; text-decoration-color: #800080; font-weight: bold\">8192</span><span style=\"color: #800080; text-decoration-color: #800080\">, COST: </span><span style=\"color: #800080; text-decoration-color: #800080\">now</span><span style=\"color: #800080; text-decoration-color: #800080\">=$</span><span style=\"color: #800080; text-decoration-color: #800080; font-weight: bold\">0.0000</span><span style=\"color: #800080; text-decoration-color: #800080\">, </span><span style=\"color: #800080; text-decoration-color: #800080\">cumul</span><span style=\"color: #800080; text-decoration-color: #800080\">=$</span><span style=\"color: #800080; text-decoration-color: #800080; font-weight: bold\">0.0000</span><span style=\"color: #800080; text-decoration-color: #800080\"> </span><span style=\"color: #800080; text-decoration-color: #800080; font-weight: bold\">(llama3-70b-</span><span style=\"color: #800080; text-decoration-color: #800080; font-weight: bold\">8192</span><span style=\"color: #800080; text-decoration-color: #800080; font-weight: bold\">)</span>\n",
              "</pre>\n"
            ]
          },
          "metadata": {}
        },
        {
          "output_type": "display_data",
          "data": {
            "text/plain": [
              "\u001b[35mBye, hope this was useful!\u001b[0m\n"
            ],
            "text/html": [
              "<pre style=\"white-space:pre;overflow-x:auto;line-height:normal;font-family:Menlo,'DejaVu Sans Mono',consolas,'Courier New',monospace\"><span style=\"color: #800080; text-decoration-color: #800080\">Bye, hope this was useful!</span>\n",
              "</pre>\n"
            ]
          },
          "metadata": {}
        },
        {
          "output_type": "display_data",
          "data": {
            "text/plain": [
              "\u001b[1;35m<<< Finished Agent Assistant \u001b[0m\u001b[1;35m(\u001b[0m\u001b[1;35m7\u001b[0m\u001b[1;35m)\u001b[0m\u001b[1;35m \u001b[0m\n"
            ],
            "text/html": [
              "<pre style=\"white-space:pre;overflow-x:auto;line-height:normal;font-family:Menlo,'DejaVu Sans Mono',consolas,'Courier New',monospace\"><span style=\"color: #800080; text-decoration-color: #800080; font-weight: bold\">&lt;&lt;&lt; Finished Agent Assistant (</span><span style=\"color: #800080; text-decoration-color: #800080; font-weight: bold\">7</span><span style=\"color: #800080; text-decoration-color: #800080; font-weight: bold\">) </span>\n",
              "</pre>\n"
            ]
          },
          "metadata": {}
        },
        {
          "output_type": "execute_result",
          "data": {
            "text/plain": [
              "ChatDocument(content='Now that we have both birthdates, I can answer the original question.\\n\\n!\\n\\nFranz Liszt was born before Richard Wagner.', metadata=ChatDocMetaData(source='User', is_chunk=False, id='', window_ids=[], parent=None, sender=<Entity.USER: 'User'>, tool_ids=[], parent_responder=None, block=None, sender_name='Assistant', recipient='', usage=None, cached=False, displayed=False, status=<StatusCode.DONE: 'DONE'>), function_call=None, tool_messages=[], attachment=None)"
            ]
          },
          "metadata": {},
          "execution_count": 13
        }
      ]
    },
    {
      "cell_type": "code",
      "source": [],
      "metadata": {
        "id": "0N49j0pxUDw6"
      },
      "execution_count": null,
      "outputs": []
    }
  ]
}