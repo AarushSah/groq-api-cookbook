{
 "cells": [
  {
   "cell_type": "markdown",
   "metadata": {},
   "source": [
    "# Groq and Gradio for Realtime Voice-Powered AI Applications 🚀\n",
    "\n",
    "In this tutorial, we'll build a voice-powered AI application using Groq for realtime speech recognition and text generation and Gradio for creating an interactive web interface.\n",
    "\n",
    "[Groq](groq.com) is known for insanely fast inference speed that is very well-suited for realtime AI applications, providing multiple Large Language Models (LLMs) and speech-to-text models via Groq API. In this tutorial, we will use the [Distil-Whisper English](https://huggingface.co/distil-whisper/distil-large-v3) and [Llama 3.1 70B](https://github.com/meta-llama/llama-models/blob/main/models/llama3_1/MODEL_CARD.md) models for speech-to-text and text-to-text. \n",
    "\n",
    "[Gradio](https://www.gradio.app/) is an open-source Python library that makes it easy to prototype and deploy interactive demos without needing to write frontend code for a nice User Interface (UI), which is great if you're a developer like me who doesn't know much about frontend Bob Ross-ery. 🖌️\n",
    "\n",
    "By combining models powered by Groq with Gradio's user-friendly interface creation, we will:\n",
    "\n",
    "- Use Distil-Whisper English powered by Groq transcribe audio input in realtime.\n",
    "- Use Llama 3.1 70B powered by Groq to generate instant responses based on the transcription.\n",
    "- Create a Gradio interface to handle audio input and display results on a nice UI.\n",
    "\n",
    "Let's get started!"
   ]
  },
  {
   "cell_type": "markdown",
   "metadata": {},
   "source": [
    "## Step 1: Create a Free GroqCloud Account and Generate Your Groq API Key\n",
    "\n",
    "If you don't already have a GroqCloud account, you can create one for free [here](https://console.groq.com) to generate a Groq API Key. We'll need the key to be able to try out the tutorial we build! "
   ]
  },
  {
   "cell_type": "markdown",
   "metadata": {},
   "source": [
    "## Step 2: Import Required Libraries\n",
    "\n",
    "Let's import the libraries that allow us to interact with Groq API, handle audio processing, and create the Gradio interface:"
   ]
  },
  {
   "cell_type": "code",
   "execution_count": 10,
   "metadata": {},
   "outputs": [
    {
     "name": "stdout",
     "output_type": "stream",
     "text": [
      "Requirement already satisfied: gradio==4.19.2 in /opt/homebrew/lib/python3.10/site-packages (4.19.2)\n",
      "Requirement already satisfied: aiofiles<24.0,>=22.0 in /opt/homebrew/lib/python3.10/site-packages (from gradio==4.19.2) (23.2.1)\n",
      "Requirement already satisfied: altair<6.0,>=4.2.0 in /opt/homebrew/lib/python3.10/site-packages (from gradio==4.19.2) (5.4.1)\n",
      "Requirement already satisfied: fastapi in /opt/homebrew/lib/python3.10/site-packages (from gradio==4.19.2) (0.112.2)\n",
      "Requirement already satisfied: ffmpy in /opt/homebrew/lib/python3.10/site-packages (from gradio==4.19.2) (0.4.0)\n",
      "Requirement already satisfied: gradio-client==0.10.1 in /opt/homebrew/lib/python3.10/site-packages (from gradio==4.19.2) (0.10.1)\n",
      "Requirement already satisfied: httpx>=0.24.1 in /opt/homebrew/lib/python3.10/site-packages (from gradio==4.19.2) (0.27.0)\n",
      "Requirement already satisfied: huggingface-hub>=0.19.3 in /opt/homebrew/lib/python3.10/site-packages (from gradio==4.19.2) (0.24.6)\n",
      "Requirement already satisfied: importlib-resources<7.0,>=1.3 in /opt/homebrew/lib/python3.10/site-packages (from gradio==4.19.2) (6.4.4)\n",
      "Requirement already satisfied: jinja2<4.0 in /opt/homebrew/lib/python3.10/site-packages (from gradio==4.19.2) (3.1.4)\n",
      "Requirement already satisfied: markupsafe~=2.0 in /opt/homebrew/lib/python3.10/site-packages (from gradio==4.19.2) (2.1.5)\n",
      "Requirement already satisfied: matplotlib~=3.0 in /opt/homebrew/lib/python3.10/site-packages (from gradio==4.19.2) (3.9.2)\n",
      "Requirement already satisfied: numpy~=1.0 in /opt/homebrew/lib/python3.10/site-packages (from gradio==4.19.2) (1.26.4)\n",
      "Requirement already satisfied: orjson~=3.0 in /opt/homebrew/lib/python3.10/site-packages (from gradio==4.19.2) (3.10.7)\n",
      "Requirement already satisfied: packaging in /Users/hozen/Library/Python/3.10/lib/python/site-packages (from gradio==4.19.2) (24.1)\n",
      "Requirement already satisfied: pandas<3.0,>=1.0 in /opt/homebrew/lib/python3.10/site-packages (from gradio==4.19.2) (2.2.2)\n",
      "Requirement already satisfied: pillow<11.0,>=8.0 in /opt/homebrew/lib/python3.10/site-packages (from gradio==4.19.2) (10.4.0)\n",
      "Requirement already satisfied: pydantic>=2.0 in /opt/homebrew/lib/python3.10/site-packages (from gradio==4.19.2) (2.8.2)\n",
      "Requirement already satisfied: pydub in /opt/homebrew/lib/python3.10/site-packages (from gradio==4.19.2) (0.25.1)\n",
      "Requirement already satisfied: python-multipart>=0.0.9 in /opt/homebrew/lib/python3.10/site-packages (from gradio==4.19.2) (0.0.9)\n",
      "Requirement already satisfied: pyyaml<7.0,>=5.0 in /opt/homebrew/lib/python3.10/site-packages (from gradio==4.19.2) (6.0.2)\n",
      "Requirement already satisfied: ruff>=0.2.2 in /opt/homebrew/lib/python3.10/site-packages (from gradio==4.19.2) (0.6.3)\n",
      "Requirement already satisfied: semantic-version~=2.0 in /opt/homebrew/lib/python3.10/site-packages (from gradio==4.19.2) (2.10.0)\n",
      "Requirement already satisfied: tomlkit==0.12.0 in /opt/homebrew/lib/python3.10/site-packages (from gradio==4.19.2) (0.12.0)\n",
      "Requirement already satisfied: typer<1.0,>=0.9 in /opt/homebrew/lib/python3.10/site-packages (from typer[all]<1.0,>=0.9->gradio==4.19.2) (0.12.5)\n",
      "Requirement already satisfied: typing-extensions~=4.0 in /Users/hozen/Library/Python/3.10/lib/python/site-packages (from gradio==4.19.2) (4.12.2)\n",
      "Requirement already satisfied: uvicorn>=0.14.0 in /opt/homebrew/lib/python3.10/site-packages (from gradio==4.19.2) (0.30.6)\n",
      "Requirement already satisfied: fsspec in /opt/homebrew/lib/python3.10/site-packages (from gradio-client==0.10.1->gradio==4.19.2) (2024.6.1)\n",
      "Requirement already satisfied: websockets<12.0,>=10.0 in /opt/homebrew/lib/python3.10/site-packages (from gradio-client==0.10.1->gradio==4.19.2) (11.0.3)\n",
      "Requirement already satisfied: jsonschema>=3.0 in /opt/homebrew/lib/python3.10/site-packages (from altair<6.0,>=4.2.0->gradio==4.19.2) (4.23.0)\n",
      "Requirement already satisfied: narwhals>=1.5.2 in /opt/homebrew/lib/python3.10/site-packages (from altair<6.0,>=4.2.0->gradio==4.19.2) (1.5.5)\n",
      "Requirement already satisfied: anyio in /opt/homebrew/lib/python3.10/site-packages (from httpx>=0.24.1->gradio==4.19.2) (4.4.0)\n",
      "Requirement already satisfied: certifi in /opt/homebrew/lib/python3.10/site-packages (from httpx>=0.24.1->gradio==4.19.2) (2024.7.4)\n",
      "Requirement already satisfied: httpcore==1.* in /opt/homebrew/lib/python3.10/site-packages (from httpx>=0.24.1->gradio==4.19.2) (1.0.5)\n",
      "Requirement already satisfied: idna in /opt/homebrew/lib/python3.10/site-packages (from httpx>=0.24.1->gradio==4.19.2) (3.7)\n",
      "Requirement already satisfied: sniffio in /opt/homebrew/lib/python3.10/site-packages (from httpx>=0.24.1->gradio==4.19.2) (1.3.1)\n",
      "Requirement already satisfied: h11<0.15,>=0.13 in /opt/homebrew/lib/python3.10/site-packages (from httpcore==1.*->httpx>=0.24.1->gradio==4.19.2) (0.14.0)\n",
      "Requirement already satisfied: filelock in /opt/homebrew/lib/python3.10/site-packages (from huggingface-hub>=0.19.3->gradio==4.19.2) (3.15.4)\n",
      "Requirement already satisfied: requests in /opt/homebrew/lib/python3.10/site-packages (from huggingface-hub>=0.19.3->gradio==4.19.2) (2.32.3)\n",
      "Requirement already satisfied: tqdm>=4.42.1 in /opt/homebrew/lib/python3.10/site-packages (from huggingface-hub>=0.19.3->gradio==4.19.2) (4.66.5)\n",
      "Requirement already satisfied: contourpy>=1.0.1 in /opt/homebrew/lib/python3.10/site-packages (from matplotlib~=3.0->gradio==4.19.2) (1.3.0)\n",
      "Requirement already satisfied: cycler>=0.10 in /opt/homebrew/lib/python3.10/site-packages (from matplotlib~=3.0->gradio==4.19.2) (0.12.1)\n",
      "Requirement already satisfied: fonttools>=4.22.0 in /opt/homebrew/lib/python3.10/site-packages (from matplotlib~=3.0->gradio==4.19.2) (4.53.1)\n",
      "Requirement already satisfied: kiwisolver>=1.3.1 in /opt/homebrew/lib/python3.10/site-packages (from matplotlib~=3.0->gradio==4.19.2) (1.4.5)\n",
      "Requirement already satisfied: pyparsing>=2.3.1 in /opt/homebrew/lib/python3.10/site-packages (from matplotlib~=3.0->gradio==4.19.2) (3.1.4)\n",
      "Requirement already satisfied: python-dateutil>=2.7 in /Users/hozen/Library/Python/3.10/lib/python/site-packages (from matplotlib~=3.0->gradio==4.19.2) (2.9.0.post0)\n",
      "Requirement already satisfied: pytz>=2020.1 in /opt/homebrew/lib/python3.10/site-packages (from pandas<3.0,>=1.0->gradio==4.19.2) (2024.1)\n",
      "Requirement already satisfied: tzdata>=2022.7 in /opt/homebrew/lib/python3.10/site-packages (from pandas<3.0,>=1.0->gradio==4.19.2) (2024.1)\n",
      "Requirement already satisfied: annotated-types>=0.4.0 in /opt/homebrew/lib/python3.10/site-packages (from pydantic>=2.0->gradio==4.19.2) (0.7.0)\n",
      "Requirement already satisfied: pydantic-core==2.20.1 in /opt/homebrew/lib/python3.10/site-packages (from pydantic>=2.0->gradio==4.19.2) (2.20.1)\n",
      "Requirement already satisfied: click>=8.0.0 in /opt/homebrew/lib/python3.10/site-packages (from typer<1.0,>=0.9->typer[all]<1.0,>=0.9->gradio==4.19.2) (8.1.7)\n",
      "Requirement already satisfied: shellingham>=1.3.0 in /opt/homebrew/lib/python3.10/site-packages (from typer<1.0,>=0.9->typer[all]<1.0,>=0.9->gradio==4.19.2) (1.5.4)\n",
      "Requirement already satisfied: rich>=10.11.0 in /opt/homebrew/lib/python3.10/site-packages (from typer<1.0,>=0.9->typer[all]<1.0,>=0.9->gradio==4.19.2) (13.8.0)\n",
      "\u001b[33mWARNING: typer 0.12.5 does not provide the extra 'all'\u001b[0m\u001b[33m\n",
      "\u001b[0mRequirement already satisfied: starlette<0.39.0,>=0.37.2 in /opt/homebrew/lib/python3.10/site-packages (from fastapi->gradio==4.19.2) (0.38.2)\n",
      "Requirement already satisfied: attrs>=22.2.0 in /opt/homebrew/lib/python3.10/site-packages (from jsonschema>=3.0->altair<6.0,>=4.2.0->gradio==4.19.2) (24.2.0)\n",
      "Requirement already satisfied: jsonschema-specifications>=2023.03.6 in /opt/homebrew/lib/python3.10/site-packages (from jsonschema>=3.0->altair<6.0,>=4.2.0->gradio==4.19.2) (2023.12.1)\n",
      "Requirement already satisfied: referencing>=0.28.4 in /opt/homebrew/lib/python3.10/site-packages (from jsonschema>=3.0->altair<6.0,>=4.2.0->gradio==4.19.2) (0.35.1)\n",
      "Requirement already satisfied: rpds-py>=0.7.1 in /opt/homebrew/lib/python3.10/site-packages (from jsonschema>=3.0->altair<6.0,>=4.2.0->gradio==4.19.2) (0.20.0)\n",
      "Requirement already satisfied: six>=1.5 in /Users/hozen/Library/Python/3.10/lib/python/site-packages (from python-dateutil>=2.7->matplotlib~=3.0->gradio==4.19.2) (1.16.0)\n",
      "Requirement already satisfied: markdown-it-py>=2.2.0 in /opt/homebrew/lib/python3.10/site-packages (from rich>=10.11.0->typer<1.0,>=0.9->typer[all]<1.0,>=0.9->gradio==4.19.2) (3.0.0)\n",
      "Requirement already satisfied: pygments<3.0.0,>=2.13.0 in /Users/hozen/Library/Python/3.10/lib/python/site-packages (from rich>=10.11.0->typer<1.0,>=0.9->typer[all]<1.0,>=0.9->gradio==4.19.2) (2.18.0)\n",
      "Requirement already satisfied: exceptiongroup>=1.0.2 in /Users/hozen/Library/Python/3.10/lib/python/site-packages (from anyio->httpx>=0.24.1->gradio==4.19.2) (1.2.2)\n",
      "Requirement already satisfied: charset-normalizer<4,>=2 in /opt/homebrew/lib/python3.10/site-packages (from requests->huggingface-hub>=0.19.3->gradio==4.19.2) (3.3.2)\n",
      "Requirement already satisfied: urllib3<3,>=1.21.1 in /opt/homebrew/lib/python3.10/site-packages (from requests->huggingface-hub>=0.19.3->gradio==4.19.2) (2.2.2)\n",
      "Requirement already satisfied: mdurl~=0.1 in /opt/homebrew/lib/python3.10/site-packages (from markdown-it-py>=2.2.0->rich>=10.11.0->typer<1.0,>=0.9->typer[all]<1.0,>=0.9->gradio==4.19.2) (0.1.2)\n",
      "Requirement already satisfied: groq==0.4.1 in /opt/homebrew/lib/python3.10/site-packages (0.4.1)\n",
      "Requirement already satisfied: anyio<5,>=3.5.0 in /opt/homebrew/lib/python3.10/site-packages (from groq==0.4.1) (4.4.0)\n",
      "Requirement already satisfied: distro<2,>=1.7.0 in /opt/homebrew/lib/python3.10/site-packages (from groq==0.4.1) (1.9.0)\n",
      "Requirement already satisfied: httpx<1,>=0.23.0 in /opt/homebrew/lib/python3.10/site-packages (from groq==0.4.1) (0.27.0)\n",
      "Requirement already satisfied: pydantic<3,>=1.9.0 in /opt/homebrew/lib/python3.10/site-packages (from groq==0.4.1) (2.8.2)\n",
      "Requirement already satisfied: sniffio in /opt/homebrew/lib/python3.10/site-packages (from groq==0.4.1) (1.3.1)\n",
      "Requirement already satisfied: typing-extensions<5,>=4.7 in /Users/hozen/Library/Python/3.10/lib/python/site-packages (from groq==0.4.1) (4.12.2)\n",
      "Requirement already satisfied: idna>=2.8 in /opt/homebrew/lib/python3.10/site-packages (from anyio<5,>=3.5.0->groq==0.4.1) (3.7)\n",
      "Requirement already satisfied: exceptiongroup>=1.0.2 in /Users/hozen/Library/Python/3.10/lib/python/site-packages (from anyio<5,>=3.5.0->groq==0.4.1) (1.2.2)\n",
      "Requirement already satisfied: certifi in /opt/homebrew/lib/python3.10/site-packages (from httpx<1,>=0.23.0->groq==0.4.1) (2024.7.4)\n",
      "Requirement already satisfied: httpcore==1.* in /opt/homebrew/lib/python3.10/site-packages (from httpx<1,>=0.23.0->groq==0.4.1) (1.0.5)\n",
      "Requirement already satisfied: h11<0.15,>=0.13 in /opt/homebrew/lib/python3.10/site-packages (from httpcore==1.*->httpx<1,>=0.23.0->groq==0.4.1) (0.14.0)\n",
      "Requirement already satisfied: annotated-types>=0.4.0 in /opt/homebrew/lib/python3.10/site-packages (from pydantic<3,>=1.9.0->groq==0.4.1) (0.7.0)\n",
      "Requirement already satisfied: pydantic-core==2.20.1 in /opt/homebrew/lib/python3.10/site-packages (from pydantic<3,>=1.9.0->groq==0.4.1) (2.20.1)\n",
      "Requirement already satisfied: numpy==1.26.4 in /opt/homebrew/lib/python3.10/site-packages (1.26.4)\n",
      "Requirement already satisfied: soundfile==0.12.1 in /opt/homebrew/lib/python3.10/site-packages (0.12.1)\n",
      "Requirement already satisfied: cffi>=1.0 in /opt/homebrew/lib/python3.10/site-packages (from soundfile==0.12.1) (1.17.0)\n",
      "Requirement already satisfied: pycparser in /opt/homebrew/lib/python3.10/site-packages (from cffi>=1.0->soundfile==0.12.1) (2.22)\n"
     ]
    }
   ],
   "source": [
    "!pip install gradio==4.19.2\n",
    "!pip install groq==0.4.1\n",
    "!pip install numpy==1.26.4\n",
    "!pip install soundfile==0.12.1\n",
    "\n",
    "import gradio as gr\n",
    "import groq\n",
    "import io\n",
    "import numpy as np\n",
    "import soundfile as sf"
   ]
  },
  {
   "cell_type": "markdown",
   "metadata": {},
   "source": [
    "## Step 3: Implement Audio Transcription\n",
    "\n",
    "Let's build a function to take audio input and use Distil-Whisper English (`distil-whisper-large-v3-en`) powered by Groq to transcribe the audio:"
   ]
  },
  {
   "cell_type": "code",
   "execution_count": 11,
   "metadata": {},
   "outputs": [],
   "source": [
    "def transcribe_audio(audio, api_key):\n",
    "    \n",
    "    if audio is None:\n",
    "        return \"Looks like you forgot to provide audio input! Please use the microphone to record audio in realtime or provide an audio file to proceed.\"\n",
    "    \n",
    "    client = groq.Client(api_key=api_key)\n",
    "    \n",
    "    # Convert audio to the format expected by the model\n",
    "    # The model supports mp3, mp4, mpeg, mpga, m4a, wav, and webm file types \n",
    "    audio_data = audio[1]  # Get the numpy array from the tuple\n",
    "    buffer = io.BytesIO()\n",
    "    sf.write(buffer, audio_data, audio[0], format='wav')\n",
    "    buffer.seek(0)\n",
    "\n",
    "    bytes_audio = io.BytesIO()\n",
    "    np.save(bytes_audio, audio_data)\n",
    "    bytes_audio.seek(0)\n",
    "\n",
    "    try:\n",
    "        # Use Distil-Whisper English powered by Groq for transcription\n",
    "        completion = client.audio.transcriptions.create(\n",
    "            model=\"distil-whisper-large-v3-en\",\n",
    "            file=(\"audio.wav\", buffer),\n",
    "            response_format=\"text\"\n",
    "        )\n",
    "        return completion\n",
    "    except Exception as e:\n",
    "        return f\"Error in transcription: {str(e)}\""
   ]
  },
  {
   "cell_type": "markdown",
   "metadata": {},
   "source": [
    "## Step 4: Implement Response Generation\n",
    "\n",
    "Now, let's build a function to take the transcribed text and generate a response using Llama 3.1 70B (`llama-3.1-70b-versatile`) powered by Groq:\n"
   ]
  },
  {
   "cell_type": "code",
   "execution_count": 12,
   "metadata": {},
   "outputs": [],
   "source": [
    "def generate_response(transcription, api_key):\n",
    "    \n",
    "    if not transcription:\n",
    "        return \"No transcription available. Please try speaking again or providing an audio file.\"\n",
    "    \n",
    "    client = groq.Client(api_key=api_key)\n",
    "    \n",
    "    try:\n",
    "        # Use Llama 3.1 70B powered by Groq for text generation\n",
    "        completion = client.chat.completions.create(\n",
    "            model=\"llama-3.1-70b-versatile\",\n",
    "            messages=[\n",
    "                {\"role\": \"system\", \"content\": \"You are a helpful assistant.\"},\n",
    "                {\"role\": \"user\", \"content\": transcription}\n",
    "            ],\n",
    "            max_tokens=150,\n",
    "            temperature=0.7\n",
    "        )\n",
    "        return completion.choices[0].message.content\n",
    "    except Exception as e:\n",
    "        return f\"Error in response generation: {str(e)}\""
   ]
  },
  {
   "cell_type": "markdown",
   "metadata": {},
   "source": [
    "## Step 5: Process Audio and Response\n",
    "\n",
    "Next, let's create a function that calls the previous two functions we built to check that a Groq API Key was provided by the user, create the transcription, and generate the response:"
   ]
  },
  {
   "cell_type": "code",
   "execution_count": 13,
   "metadata": {},
   "outputs": [],
   "source": [
    "def process_audio(audio, api_key):\n",
    "    if not api_key:\n",
    "        return \"Please enter your Groq API key.\", \"API key is required.\"\n",
    "    transcription = transcribe_audio(audio, api_key)\n",
    "    response = generate_response(transcription, api_key)\n",
    "    return transcription, response"
   ]
  },
  {
   "cell_type": "markdown",
   "metadata": {},
   "source": [
    "## Step 6: Build Web Interface with Gradio\n",
    "\n",
    "Finally, we'll use Gradio and the easy-to-use UI components that it provides for us to build out a simple interface for our project:"
   ]
  },
  {
   "cell_type": "code",
   "execution_count": 14,
   "metadata": {},
   "outputs": [
    {
     "name": "stdout",
     "output_type": "stream",
     "text": [
      "Running on local URL:  http://127.0.0.1:7862\n",
      "\n",
      "To create a public link, set `share=True` in `launch()`.\n"
     ]
    },
    {
     "data": {
      "text/html": [
       "<div><iframe src=\"http://127.0.0.1:7862/\" width=\"100%\" height=\"500\" allow=\"autoplay; camera; microphone; clipboard-read; clipboard-write;\" frameborder=\"0\" allowfullscreen></iframe></div>"
      ],
      "text/plain": [
       "<IPython.core.display.HTML object>"
      ]
     },
     "metadata": {},
     "output_type": "display_data"
    },
    {
     "data": {
      "text/plain": []
     },
     "execution_count": 14,
     "metadata": {},
     "output_type": "execute_result"
    },
    {
     "name": "stdout",
     "output_type": "stream",
     "text": [
      "IMPORTANT: You are using gradio version 4.19.2, however version 4.29.0 is available, please upgrade.\n",
      "--------\n"
     ]
    }
   ],
   "source": [
    "# Custom CSS for the Groq badge and color scheme (feel free to edit however you wish)\n",
    "custom_css = \"\"\"\n",
    ".gradio-container {\n",
    "    background-color: #f5f5f5;\n",
    "}\n",
    ".gr-button-primary {\n",
    "    background-color: #f55036 !important;\n",
    "    border-color: #f55036 !important;\n",
    "}\n",
    ".gr-button-secondary {\n",
    "    color: #f55036 !important;\n",
    "    border-color: #f55036 !important;\n",
    "}\n",
    "#groq-badge {\n",
    "    position: fixed;\n",
    "    bottom: 20px;\n",
    "    right: 20px;\n",
    "    z-index: 1000;\n",
    "}\n",
    "\"\"\"\n",
    "\n",
    "with gr.Blocks(theme=gr.themes.Default()) as demo:\n",
    "    gr.Markdown(\"# 🎙️ Groq x Gradio Voice-Powered AI Assistant\")\n",
    "    \n",
    "    api_key_input = gr.Textbox(type=\"password\", label=\"Enter your Groq API Key\")\n",
    "    \n",
    "    with gr.Row():\n",
    "        audio_input = gr.Audio(label=\"Speak!\", type=\"numpy\")\n",
    "    \n",
    "    with gr.Row():\n",
    "        transcription_output = gr.Textbox(label=\"Transcription\")\n",
    "        response_output = gr.Textbox(label=\"Assistant Response\")\n",
    "    \n",
    "    submit_button = gr.Button(\"Process\", variant=\"primary\")\n",
    "    \n",
    "    # Add the Groq badge\n",
    "    gr.HTML(\"\"\"\n",
    "    <div id=\"groq-badge\">\n",
    "        <div style=\"color: #f55036; font-weight: bold;\">POWERED BY GROQ</div>\n",
    "    </div>\n",
    "    \"\"\")\n",
    "    \n",
    "    submit_button.click(\n",
    "        process_audio,\n",
    "        inputs=[audio_input, api_key_input],\n",
    "        outputs=[transcription_output, response_output]\n",
    "    )\n",
    "    \n",
    "    gr.Markdown(\"\"\"\n",
    "    ## How to use this app:\n",
    "    1. Enter your Groq API Key in the provided field.\n",
    "    2. Click on the microphone icon and speak your message (or forever hold your peace)! You can also provide a supported audio file. Supported audio files include mp3, mp4, mpeg, mpga, m4a, wav, and webm file types.\n",
    "    3. Click the \"Process\" button to transcribe your speech and generate a response from our AI assistant.\n",
    "    4. The transcription and AI assistant response will appear in the respective text boxes.\n",
    "    \n",
    "    \"\"\")\n",
    "\n",
    "demo.launch()"
   ]
  },
  {
   "cell_type": "markdown",
   "metadata": {},
   "source": [
    "# Conclusion\n",
    "By combining Groq and Gradio, we've built a voice-powered AI assistant with just a few lines of code and learned how easy it is to create powerful, interactive AI applications! \n",
    "\n",
    "Feel free to experiment with this code, try different prompts, or extend the functionality to create your own personal project! 🤩"
   ]
  }
 ],
 "metadata": {
  "kernelspec": {
   "display_name": "Python 3",
   "language": "python",
   "name": "python3"
  },
  "language_info": {
   "codemirror_mode": {
    "name": "ipython",
    "version": 3
   },
   "file_extension": ".py",
   "mimetype": "text/x-python",
   "name": "python",
   "nbconvert_exporter": "python",
   "pygments_lexer": "ipython3",
   "version": "3.10.14"
  }
 },
 "nbformat": 4,
 "nbformat_minor": 2
}
