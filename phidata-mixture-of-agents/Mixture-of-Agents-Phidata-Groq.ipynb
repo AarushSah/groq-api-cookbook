{
 "cells": [
  {
   "cell_type": "markdown",
   "id": "6613d551-2164-4824-a4de-1c4d021b61a9",
   "metadata": {},
   "source": [
    "# MLB Editorial Crew: Mixture of Agents with Phidata and Groq"
   ]
  },
  {
   "cell_type": "markdown",
   "id": "444802de-1d9f-4a5d-873d-2aeca7cea4ca",
   "metadata": {},
   "source": [
    "In this notebook, we will showcase the concept of [Mixture of Agents (MoA)](https://arxiv.org/pdf/2406.04692) using [Phidata Assistants](https://github.com/phidatahq/phidata) and [Groq API](https://console.groq.com/playground). \n",
    "\n",
    "The Mixture of Agents approach involves leveraging multiple AI agents, each equipped with different language models, to collaboratively complete a task. By combining the strengths and perspectives of various models, we can achieve a more robust and nuanced result. \n",
    "\n",
    "In our project, multiple MLB Writer agents, each utilizing a different language model (`llama3-8b-8192`, `gemma2-9b-it`, and `mixtral-8x7b-32768`), will independently generate game recap articles based on game data collected from other Phidata Assistants. These diverse outputs will then be aggregated by an MLB Editor agent, which will synthesize the best elements from each article to create a final, polished game recap. This process not only demonstrates the power of collaborative AI but also highlights the effectiveness of integrating multiple models to enhance the quality of the generated content."
   ]
  },
  {
   "cell_type": "markdown",
   "id": "226eaba9-16a9-432c-9ad3-67bb54c9a053",
   "metadata": {},
   "source": [
    "### Setup"
   ]
  },
  {
   "cell_type": "code",
   "execution_count": 1,
   "id": "98f4f68d-d596-4f10-a72f-f7027e3f37f4",
   "metadata": {},
   "outputs": [],
   "source": [
    "# Import packages\n",
    "import os\n",
    "import json\n",
    "import statsapi\n",
    "import datetime\n",
    "from datetime import timedelta, datetime\n",
    "import pandas as pd\n",
    "from phi.assistant import Assistant\n",
    "from phi.llm.groq import Groq"
   ]
  },
  {
   "cell_type": "code",
   "execution_count": 2,
   "id": "40534034-a556-424b-8f5b-81392939369e",
   "metadata": {},
   "outputs": [],
   "source": [
    "api_key = os.getenv('GROQ_API_KEY')"
   ]
  },
  {
   "cell_type": "markdown",
   "id": "cee9fc13-e27d-4e93-95df-57c87f5a8df4",
   "metadata": {},
   "source": [
    "We will configure multiple LLMs using [Phidata Assistants](https://github.com/phidatahq/phidata), each requiring a Groq API Key for access which you can create [here](https://console.groq.com/keys). These models include different versions of Meta's LLaMA 3 and other specialized models like Google's Gemma 2 and Mixtral. Each model will be used by different agents to generate diverse outputs for the MLB game recap."
   ]
  },
  {
   "cell_type": "code",
   "execution_count": 3,
   "id": "1cd20615-fe84-4b35-bb39-2e4d7f388b35",
   "metadata": {},
   "outputs": [],
   "source": [
    "llm_llama70b=Groq(model=\"llama3-70b-8192\", api_key=api_key)\n",
    "llm_llama8b=Groq(model=\"llama3-groq-8b-8192-tool-use-preview\", api_key=api_key)\n",
    "llm_gemma2=Groq(model=\"gemma2-9b-it\", api_key=api_key)\n",
    "llm_mixtral = Groq(model=\"mixtral-8x7b-32768\", api_key=api_key)"
   ]
  },
  {
   "cell_type": "markdown",
   "id": "cfe24034-9aa0-4f7d-90aa-d310dd5e685e",
   "metadata": {},
   "source": [
    "### Define Tools"
   ]
  },
  {
   "cell_type": "markdown",
   "id": "81fbc977-f417-4bfa-953d-05bc41a184e6",
   "metadata": {},
   "source": [
    "First, we will define specialized tools to equip some of the agents with to assist in gathering and processing MLB game data. These tools are designed to fetch game information and player boxscores via the [MLB-Stats API](https://github.com/toddrob99/MLB-StatsAPI). By providing these tools to our agents, they can call them with relevant information provided by the user prompt and infuse our MLB game recaps with accurate, up-to-date external information.\n",
    "\n",
    "- **get_game_info**: Fetches high-level information about an MLB game, including teams, scores, and key players.\n",
    "- **get_batting_stats**: Retrieves detailed player batting statistics for a specified MLB game.\n",
    "- **get_pitching_stats**: Retrieves detailed player pitching statistics for a specified MLB game.\n",
    "\n",
    "For more information on tool use/function calling with Phidata Mixture of Agents, check out [Phidata Documentation](https://docs.phidata.com/introduction)."
   ]
  },
  {
   "cell_type": "code",
   "execution_count": 4,
   "id": "a1099020-ce9e-41ba-a477-760281d07f4f",
   "metadata": {},
   "outputs": [],
   "source": [
    "from pydantic import BaseModel, Field\n",
    "\n",
    "class GameInfo(BaseModel):\n",
    "    game_id: str = Field(description=\"The 6-digit ID of the game\")\n",
    "    home_team: str = Field(description=\"The name of the home team\")\n",
    "    home_score: str = Field(description=\"The score of the home team\")\n",
    "    away_team: str = Field(description=\"The name of the away team\")\n",
    "    away_score: str = Field(description=\"The score of the away team\")\n",
    "    winning_team: str = Field(description=\"The name of the winning team\")\n",
    "    series_status: str = Field(description=\"The status of the series\")\n",
    "\n",
    "\n",
    "def get_game_info(game_date: str, team_name: str) -> str:\n",
    "    \"\"\"Gets high-level information on an MLB game.\n",
    "    \n",
    "    Params:\n",
    "    game_date: The date of the game of interest, in the form \"yyyy-mm-dd\". \n",
    "    team_name: MLB team name. Both full name (e.g. \"New York Yankees\") or nickname (\"Yankees\") are valid. If multiple teams are mentioned, use the first one\n",
    "    \"\"\"\n",
    "    sched = statsapi.schedule(start_date=game_date,end_date=game_date)\n",
    "    sched_df = pd.DataFrame(sched)\n",
    "    game_info_df = sched_df[sched_df['summary'].str.contains(team_name, case=False, na=False)]\n",
    "\n",
    "    game_info = {\n",
    "        \"game_id\": str(game_info_df.game_id.tolist()[0]),\n",
    "        \"home_team\": game_info_df.home_name.tolist()[0],\n",
    "        \"home_score\": game_info_df.home_score.tolist()[0],\n",
    "        \"away_team\": game_info_df.away_name.tolist()[0],\n",
    "        \"away_score\": game_info_df.away_score.tolist()[0],\n",
    "        \"winning_team\": game_info_df.winning_team.tolist()[0],\n",
    "        \"series_status\": game_info_df.series_status.tolist()[0]\n",
    "    }\n",
    "\n",
    "    return json.dumps(game_info)\n",
    "\n",
    "\n",
    "def get_batting_stats(game_id: str) -> str:\n",
    "    \"\"\"Gets player boxscore batting stats for a particular MLB game\n",
    "    \n",
    "    Params:\n",
    "    game_id: The 6-digit ID of the game\n",
    "    \"\"\"\n",
    "    boxscores=statsapi.boxscore_data(game_id)\n",
    "    player_info_df = pd.DataFrame(boxscores['playerInfo']).T.reset_index()\n",
    "\n",
    "    away_batters_box = pd.DataFrame(boxscores['awayBatters']).iloc[1:]\n",
    "    away_batters_box['team_name'] = boxscores['teamInfo']['away']['teamName']\n",
    "\n",
    "    home_batters_box = pd.DataFrame(boxscores['homeBatters']).iloc[1:]\n",
    "    home_batters_box['team_name'] = boxscores['teamInfo']['home']['teamName']\n",
    "\n",
    "    batters_box_df = pd.concat([away_batters_box, home_batters_box]).merge(player_info_df, left_on = 'name', right_on = 'boxscoreName')\n",
    "    batting_stats = batters_box_df[['team_name','fullName','position','ab','r','h','hr','rbi','bb','sb']].to_dict(orient='records')\n",
    "\n",
    "    return json.dumps(batting_stats)\n",
    "\n",
    "\n",
    "def get_pitching_stats(game_id: str) -> str:\n",
    "    \"\"\"Gets player boxscore pitching stats for a particular MLB game\n",
    "    \n",
    "    Params:\n",
    "    game_id: The 6-digit ID of the game\n",
    "    \"\"\"\n",
    "    boxscores=statsapi.boxscore_data(game_id)\n",
    "    player_info_df = pd.DataFrame(boxscores['playerInfo']).T.reset_index()\n",
    "\n",
    "    away_pitchers_box = pd.DataFrame(boxscores['awayPitchers']).iloc[1:]\n",
    "    away_pitchers_box['team_name'] = boxscores['teamInfo']['away']['teamName']\n",
    "\n",
    "    home_pitchers_box = pd.DataFrame(boxscores['homePitchers']).iloc[1:]\n",
    "    home_pitchers_box['team_name'] = boxscores['teamInfo']['home']['teamName']\n",
    "\n",
    "    pitchers_box_df = pd.concat([away_pitchers_box,home_pitchers_box]).merge(player_info_df, left_on = 'name', right_on = 'boxscoreName')\n",
    "    pitching_stats = pitchers_box_df[['team_name','fullName','ip','h','r','er','bb','k','note']].to_dict(orient='records')\n",
    "\n",
    "    return json.dumps(pitching_stats)"
   ]
  },
  {
   "cell_type": "markdown",
   "id": "5410103f-5afa-4b33-a834-01212d7dc0e5",
   "metadata": {},
   "source": [
    "### Define Agents"
   ]
  },
  {
   "cell_type": "markdown",
   "id": "2e0e09f2-e772-4c45-b29e-5bf2b9c91efc",
   "metadata": {},
   "source": [
    "In Phidata, Assistants are autonomous entities designed to execute a task using their Knowledge, Memory, and Tools. \n",
    "\n",
    "- **MLB Researcher**: Uses the `get_game_info` tool to gather high-level game information.\n",
    "- **MLB Batting and Pitching Statistician**: Retrieves player batting and pitching boxscore stats using the `get_batting_stats` and `get_pitching_stats` tools.\n",
    "- **MLB Writers**: Three agents, each using different LLMs (LLaMA-8b, Gemma-9b, Mixtral-8x7b), to write game recap articles.\n",
    "- **MLB Editor**: Edits the articles from the writers to create the final game recap."
   ]
  },
  {
   "cell_type": "markdown",
   "id": "ba83d424-865f-4a57-8662-308c426ddd07",
   "metadata": {},
   "source": [
    "#### Mixture of Agents"
   ]
  },
  {
   "cell_type": "markdown",
   "id": "d18f6612-3af0-4fc8-a38f-5d0bef87bb6a",
   "metadata": {},
   "source": [
    "In this demo, although the MLB Researcher and MLB Statistician agents use tool calling to gather data for the output, our Mixture of Agents framework consists of the three MLB Writer agents and the MLB Editor. This makes our MoA architecture a simple 2 layer design, but more complex architectures are possible to improve the output even more:"
   ]
  },
  {
   "cell_type": "markdown",
   "id": "e938b3f8-d0b5-4692-877e-5c7d1cde82d1",
   "metadata": {},
   "source": [
    "![Alt text](mixture_of_agents_diagram.png)"
   ]
  },
  {
   "cell_type": "code",
   "execution_count": 5,
   "id": "54a40307-bfc5-4636-aa98-14f49513c611",
   "metadata": {},
   "outputs": [],
   "source": [
    "default_date = datetime.now().date() - timedelta(1) # Set default date to yesterday in case no date is specified\n",
    "\n",
    "mlb_researcher = Assistant(\n",
    "    llm=llm_mixtral,\n",
    "    description=\"An detailed accurate MLB researcher extracts game information from the user question\",\n",
    "    instructions=[\n",
    "        \"Parse the Team and date from the user question.\",\n",
    "        \"Pass the necessary team(s) and dates to get_game_info tool\",\n",
    "        f\"Unless a specific date is provided in the user prompt, use {default_date} as the game date\",\n",
    "        \"\"\"\n",
    "        Please include the following in your response:\n",
    "            game_id: game_id\n",
    "            home_team: home_team\n",
    "            home_score: home_score\n",
    "            away_team: away_team\n",
    "            away_score: away_score\n",
    "            winning_team: winning_team\n",
    "            series_status: series_status\n",
    "        \"\"\"        \n",
    "    ],\n",
    "    tools=[get_game_info],   \n",
    ")\n",
    "\n",
    "mlb_batting_statistician = Assistant(\n",
    "    llm=llm_mixtral,\n",
    "    description=\"An industrious MLB Statistician analyzing player boxscore stats for the relevant game\",\n",
    "    instructions=[\n",
    "        \"Given information about a MLB game, retrieve ONLY boxscore player batting stats for the game identified by the MLB Researcher\",\n",
    "        \"Your analysis should be atleast 1000 words long, and include inning-by-inning statistical summaries\",\n",
    "        ],\n",
    "    tools=[get_batting_stats],\n",
    ")\n",
    "\n",
    "mlb_pitching_statistician = Assistant(\n",
    "    llm=llm_mixtral,\n",
    "    description=\"An industrious MLB Statistician analyzing player boxscore stats for the relevant game\",\n",
    "    instructions=[\n",
    "        \"Given information about a MLB game, retrieve ONLY boxscore player pitching stats for a specific game\",\n",
    "        \"Your analysis should be atleast 1000 words long, and include inning-by-inning statistical summaries\",\n",
    "        ],\n",
    "    tools=[get_pitching_stats],\n",
    ")\n",
    "\n",
    "mlb_writer_llama = Assistant(\n",
    "    llm=llm_llama70b,\n",
    "    description=\"An experienced, honest, and industrious writer who does not make things up\",\n",
    "    instructions=[\n",
    "        \"\"\"\n",
    "            Write a game recap article using the provided game information and stats.\n",
    "            Key instructions:\n",
    "            - Include things like final score, top performers and winning/losing pitcher.\n",
    "            - Use ONLY the provided data and DO NOT make up any information, such as specific innings when events occurred, that isn't explicitly from the provided input.\n",
    "            - Do not print the box score\n",
    "        \"\"\",\n",
    "        \"Your recap from the stats should be at least 1000 words. Impress your readers!!!\"\n",
    "    ],\n",
    ")\n",
    "\n",
    "mlb_writer_gemma = Assistant(\n",
    "    llm=llm_gemma2,\n",
    "    description=\"An experienced and honest writer who does not make things up\",\n",
    "    instructions=[\"Write a detailed game recap article using the provided game information and stats\"],\n",
    ")\n",
    "\n",
    "mlb_writer_mixtral = Assistant(\n",
    "    llm=llm_mixtral,\n",
    "    description=\"An experienced and honest writer who does not make things up\",\n",
    "    instructions=[\"Write a detailed game recap article using the provided game information and stats\"],\n",
    ")\n",
    "\n",
    "mlb_editor = Assistant(\n",
    "    llm=llm_llama70b,\n",
    "    description=\"An experienced editor that excels at taking the best parts of multiple texts to create the best final product\",\n",
    "    instructions=[\"Edit recap articles to create the best final product.\"],\n",
    ")"
   ]
  },
  {
   "cell_type": "code",
   "execution_count": 6,
   "id": "d56d9ff7-e337-40c4-b2c1-e2f69940ce41",
   "metadata": {
    "scrolled": true
   },
   "outputs": [],
   "source": [
    "user_prompt = 'write a recap of the Yankees game on July 14, 2024'"
   ]
  },
  {
   "cell_type": "code",
   "execution_count": 7,
   "id": "ca32dc45",
   "metadata": {},
   "outputs": [
    {
     "name": "stdout",
     "output_type": "stream",
     "text": [
      "Here is the edited recap article, combining the best parts of the two texts to create the best final product:\n",
      "\n",
      "The Baltimore Orioles edged past the New York Yankees in a nail-biting game on July 14, 2024, with a final score of 6-5. The intense matchup saw the Orioles emerge victorious by a narrow margin of one run, capping off a hard-fought contest between two talented teams.\n",
      "\n",
      "The game got off to a fiery start, with the Orioles taking an early lead in the first inning thanks to Gunnar Henderson's home run, which brought in two runs. However, the Yankees quickly responded in the bottom of the inning, with Ben Rice's home run bringing in two runs and tying the game at 2-2.\n",
      "\n",
      "The Orioles regained the lead in the second inning, courtesy of Cedric Mullins' RBI single, making it 3-2 in their favor. The Yankees struggled to find their rhythm, managing only one hit in the second and third innings combined. Meanwhile, the Orioles continued to pile on, scoring two more runs in the third inning to take a 5-2 lead.\n",
      "\n",
      "The Yankees finally found their footing in the fourth inning, with Trent Grisham's home run bringing in three runs and tying the game at 5-5. The momentum seemed to be shifting in their favor, but the Orioles refused to back down. In the top of the fifth inning, the Orioles' Oswaldo Cabrera brought in a run with an RBI single, giving his team a 6-5 lead. The Yankees tried to mount a comeback, but the Orioles' bullpen held strong, shutting them out for the remainder of the game.\n",
      "\n",
      "The Yankees' pitching staff had a rollercoaster of a day, with multiple relievers taking the mound. Carlos Rodón started strong, pitching a scoreless first inning. However, Tommy Kahnle's brief appearance in the second inning saw him give up a run. Michael Tonkin pitched a solid 1.1 innings, striking out three hitters, but Clay Holmes struggled in the fifth inning, allowing three runs to score.\n",
      "\n",
      "The Orioles also employed a bullpen-by-committee approach, with Cionel Pérez, Yennier Cano, and Craig Kimbrel all making appearances. Kimbrel ultimately secured the win, although not without some tension in the ninth inning.\n",
      "\n",
      "One of the standout performers of the game was Gunnar Henderson, who homered in the first inning and brought in two runs. Cedric Mullins and Jorge Mateo also contributed to the Orioles' offense, each driving in a run. For the Yankees, Ben Rice and Trent Grisham were the top performers, with Rice homering in the first inning and Grisham bringing in three runs with his fourth-inning home run.\n",
      "\n",
      "In terms of pitching, the Yankees' bullpen struggled with control, walking nine batters throughout the game. However, they did manage to strike out 20 Orioles hitters, showcasing their potency. The Orioles' pitching staff, on the other hand, did a better job of limiting walks, issuing only five free passes.\n",
      "\n",
      "Ultimately, the Orioles' narrow victory can be attributed to their ability to capitalize on Yankees mistakes and their strong bullpen performance. The Yankees, despite their best efforts, came up just short in this intense and thrilling game.\n",
      "\n",
      "The final statistics told the tale of a closely contested game. The Yankees finished with 10 runs, 13 hits, 2 home runs, 6 RBIs, 10 walks, and 10 strikeouts. The Orioles, on the other hand, tallied 6 runs, 11 hits, 2 home runs, 6 RBIs, 5 walks, and 4 strikeouts.\n",
      "\n",
      "This game will undoubtedly be remembered as a hard-fought and exciting matchup between two talented teams. Despite the loss, the Yankees can take heart from their valiant effort, while the Orioles will look to build on this momentum in their future games.\n"
     ]
    }
   ],
   "source": [
    "game_information = mlb_researcher.run(user_prompt, stream=False)\n",
    "\n",
    "# TODO run batting and pitching stats async\n",
    "batting_stats  = mlb_batting_statistician.run(game_information, stream=False)\n",
    "pitching_state = mlb_pitching_statistician.run(game_information, stream=False)\n",
    "\n",
    "# TODO run mulitple writers async\n",
    "stats = f\"Statistical summaries for the game:\\n\\nBatting stats:\\n{batting_stats}\\n\\nPitching stats:\\n{pitching_state}\"\n",
    "llama_writer   = mlb_writer_llama.run(stats, stream=False)\n",
    "gemma_writer   = mlb_writer_gemma.run(stats, stream=False)\n",
    "mixtral_writer = mlb_writer_mixtral.run(stats, stream=False)\n",
    "\n",
    "\n",
    "# Edit final outputs\n",
    "editor_inputs = [llama_writer, gemma_writer, mixtral_writer]\n",
    "editor = mlb_editor.run(\"\\n\".join(editor_inputs), stream=False)\n",
    "\n",
    "print(editor)"
   ]
  }
 ],
 "metadata": {
  "kernelspec": {
   "display_name": "Python 3 (ipykernel)",
   "language": "python",
   "name": "python3"
  },
  "language_info": {
   "codemirror_mode": {
    "name": "ipython",
    "version": 3
   },
   "file_extension": ".py",
   "mimetype": "text/x-python",
   "name": "python",
   "nbconvert_exporter": "python",
   "pygments_lexer": "ipython3",
   "version": "3.11.9"
  }
 },
 "nbformat": 4,
 "nbformat_minor": 5
}
